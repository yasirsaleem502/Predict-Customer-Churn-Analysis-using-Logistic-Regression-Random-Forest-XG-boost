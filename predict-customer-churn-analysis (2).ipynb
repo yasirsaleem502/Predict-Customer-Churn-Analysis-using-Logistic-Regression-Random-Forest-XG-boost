{
 "cells": [
  {
   "cell_type": "markdown",
   "id": "c6b22d65",
   "metadata": {
    "papermill": {
     "duration": 0.038337,
     "end_time": "2022-09-19T05:33:05.791058",
     "exception": false,
     "start_time": "2022-09-19T05:33:05.752721",
     "status": "completed"
    },
    "tags": []
   },
   "source": [
    "### Predict Customer Churn Analysis"
   ]
  },
  {
   "cell_type": "markdown",
   "id": "13253dcd",
   "metadata": {
    "papermill": {
     "duration": 0.035239,
     "end_time": "2022-09-19T05:33:05.858428",
     "exception": false,
     "start_time": "2022-09-19T05:33:05.823189",
     "status": "completed"
    },
    "tags": []
   },
   "source": [
    "Companies want to improve and maintain a healthy relationship and environment for their employees. This can be achieved by recognizing and understanding the important factors that are associated with employee turnover and taking care of them might add into the productivity and growth of the employees. These insights can help managers for grabing the opportunity to take corrective steps to build and preserve their successful business. \n",
    "<br><br>\n",
    "In this notebook, we will work on the project that is based on understanding what factors contributed most to employee turnover and to create a model that can predict if a certain employee will leave the company or not.<br><br>"
   ]
  },
  {
   "cell_type": "markdown",
   "id": "dd26b646",
   "metadata": {
    "papermill": {
     "duration": 0.030906,
     "end_time": "2022-09-19T05:33:05.922907",
     "exception": false,
     "start_time": "2022-09-19T05:33:05.892001",
     "status": "completed"
    },
    "tags": []
   },
   "source": [
    "### Column Description"
   ]
  },
  {
   "cell_type": "markdown",
   "id": "7a4c95fb",
   "metadata": {
    "papermill": {
     "duration": 0.030942,
     "end_time": "2022-09-19T05:33:05.986050",
     "exception": false,
     "start_time": "2022-09-19T05:33:05.955108",
     "status": "completed"
    },
    "tags": []
   },
   "source": [
    "- satisfacion_level: Showing satisfaction of a particular employee\n",
    "- last_evaluation: Showing last evaluation of a particular employee\n",
    "- number_project: Showing number of projects handled a particular employee\n",
    "- average_montly_hours: Showing the monthly hours that were spent the particular emloyee\n",
    "- time_spend_company: Shows the number of years spent by the particular employee in the company.\n",
    "- Work_accident: Showing an employee has whether been part of the company or not.\n",
    "- left: Tells either and employee has left the company or not. Shows two values 0= not left, 1= left\n",
    "- promotion_last_5years: Shows that the whether the employee has got any promotion in the last 5 years or not.\n",
    "- dept: Shows the departments\n",
    "- salary: Shows the salary type of the employee"
   ]
  },
  {
   "cell_type": "markdown",
   "id": "d09a3b68",
   "metadata": {
    "papermill": {
     "duration": 0.030867,
     "end_time": "2022-09-19T05:33:06.048319",
     "exception": false,
     "start_time": "2022-09-19T05:33:06.017452",
     "status": "completed"
    },
    "tags": []
   },
   "source": [
    "### data set name is df\n",
    "### onehotcoded name is df beacuse        df = onehotcode "
   ]
  },
  {
   "cell_type": "markdown",
   "id": "fc5fad4a",
   "metadata": {
    "papermill": {
     "duration": 0.030804,
     "end_time": "2022-09-19T05:33:06.111377",
     "exception": false,
     "start_time": "2022-09-19T05:33:06.080573",
     "status": "completed"
    },
    "tags": []
   },
   "source": [
    "# Wrangling & EDA"
   ]
  },
  {
   "cell_type": "markdown",
   "id": "9cdf8d46",
   "metadata": {
    "papermill": {
     "duration": 0.031309,
     "end_time": "2022-09-19T05:33:06.175762",
     "exception": false,
     "start_time": "2022-09-19T05:33:06.144453",
     "status": "completed"
    },
    "tags": []
   },
   "source": [
    "## 1. Loading Packages"
   ]
  },
  {
   "cell_type": "code",
   "execution_count": 1,
   "id": "4fd373ea",
   "metadata": {
    "execution": {
     "iopub.execute_input": "2022-09-19T05:33:06.243718Z",
     "iopub.status.busy": "2022-09-19T05:33:06.242604Z",
     "iopub.status.idle": "2022-09-19T05:33:07.513655Z",
     "shell.execute_reply": "2022-09-19T05:33:07.512563Z"
    },
    "papermill": {
     "duration": 1.307946,
     "end_time": "2022-09-19T05:33:07.516493",
     "exception": false,
     "start_time": "2022-09-19T05:33:06.208547",
     "status": "completed"
    },
    "tags": []
   },
   "outputs": [],
   "source": [
    "import pandas as pd\n",
    "import numpy as np\n",
    "import matplotlib.pyplot as plt\n",
    "import seaborn as sns\n",
    "sns.set()\n",
    "%matplotlib inline"
   ]
  },
  {
   "cell_type": "markdown",
   "id": "fead7f40",
   "metadata": {
    "papermill": {
     "duration": 0.031421,
     "end_time": "2022-09-19T05:33:07.579539",
     "exception": false,
     "start_time": "2022-09-19T05:33:07.548118",
     "status": "completed"
    },
    "tags": []
   },
   "source": [
    "## 2. Loading Data & Basic Analysis"
   ]
  },
  {
   "cell_type": "markdown",
   "id": "e7692ba8",
   "metadata": {
    "papermill": {
     "duration": 0.031549,
     "end_time": "2022-09-19T05:33:07.641849",
     "exception": false,
     "start_time": "2022-09-19T05:33:07.610300",
     "status": "completed"
    },
    "tags": []
   },
   "source": [
    "- **Task 1**:Load the data and after making a copy of it, find **shape, data types, basic statistics, and null values** from the data set"
   ]
  },
  {
   "cell_type": "code",
   "execution_count": 2,
   "id": "ffe776d5",
   "metadata": {
    "execution": {
     "iopub.execute_input": "2022-09-19T05:33:07.705178Z",
     "iopub.status.busy": "2022-09-19T05:33:07.704342Z",
     "iopub.status.idle": "2022-09-19T05:33:07.752437Z",
     "shell.execute_reply": "2022-09-19T05:33:07.751453Z"
    },
    "papermill": {
     "duration": 0.082949,
     "end_time": "2022-09-19T05:33:07.755028",
     "exception": false,
     "start_time": "2022-09-19T05:33:07.672079",
     "status": "completed"
    },
    "tags": []
   },
   "outputs": [],
   "source": [
    "# Load the data\n",
    "data= pd.read_csv(\"../input/predict-customer-churn-dataset/HR_comma_sep.csv\")\n",
    "df=data.copy()"
   ]
  },
  {
   "cell_type": "code",
   "execution_count": 3,
   "id": "7980d11e",
   "metadata": {
    "execution": {
     "iopub.execute_input": "2022-09-19T05:33:07.818745Z",
     "iopub.status.busy": "2022-09-19T05:33:07.817935Z",
     "iopub.status.idle": "2022-09-19T05:33:07.825883Z",
     "shell.execute_reply": "2022-09-19T05:33:07.824975Z"
    },
    "papermill": {
     "duration": 0.041873,
     "end_time": "2022-09-19T05:33:07.827992",
     "exception": false,
     "start_time": "2022-09-19T05:33:07.786119",
     "status": "completed"
    },
    "tags": []
   },
   "outputs": [
    {
     "data": {
      "text/plain": [
       "(14999, 10)"
      ]
     },
     "execution_count": 3,
     "metadata": {},
     "output_type": "execute_result"
    }
   ],
   "source": [
    "# Find the shape\n",
    "df.shape"
   ]
  },
  {
   "cell_type": "code",
   "execution_count": 4,
   "id": "176c4c45",
   "metadata": {
    "execution": {
     "iopub.execute_input": "2022-09-19T05:33:07.893154Z",
     "iopub.status.busy": "2022-09-19T05:33:07.892709Z",
     "iopub.status.idle": "2022-09-19T05:33:07.916510Z",
     "shell.execute_reply": "2022-09-19T05:33:07.915071Z"
    },
    "papermill": {
     "duration": 0.059179,
     "end_time": "2022-09-19T05:33:07.919115",
     "exception": false,
     "start_time": "2022-09-19T05:33:07.859936",
     "status": "completed"
    },
    "tags": []
   },
   "outputs": [
    {
     "data": {
      "text/html": [
       "<div>\n",
       "<style scoped>\n",
       "    .dataframe tbody tr th:only-of-type {\n",
       "        vertical-align: middle;\n",
       "    }\n",
       "\n",
       "    .dataframe tbody tr th {\n",
       "        vertical-align: top;\n",
       "    }\n",
       "\n",
       "    .dataframe thead th {\n",
       "        text-align: right;\n",
       "    }\n",
       "</style>\n",
       "<table border=\"1\" class=\"dataframe\">\n",
       "  <thead>\n",
       "    <tr style=\"text-align: right;\">\n",
       "      <th></th>\n",
       "      <th>satisfaction_level</th>\n",
       "      <th>last_evaluation</th>\n",
       "      <th>number_project</th>\n",
       "      <th>average_montly_hours</th>\n",
       "      <th>time_spend_company</th>\n",
       "      <th>Work_accident</th>\n",
       "      <th>left</th>\n",
       "      <th>promotion_last_5years</th>\n",
       "      <th>dept</th>\n",
       "      <th>salary</th>\n",
       "    </tr>\n",
       "  </thead>\n",
       "  <tbody>\n",
       "    <tr>\n",
       "      <th>0</th>\n",
       "      <td>0.38</td>\n",
       "      <td>0.53</td>\n",
       "      <td>2</td>\n",
       "      <td>157</td>\n",
       "      <td>3</td>\n",
       "      <td>0</td>\n",
       "      <td>1</td>\n",
       "      <td>0</td>\n",
       "      <td>sales</td>\n",
       "      <td>low</td>\n",
       "    </tr>\n",
       "    <tr>\n",
       "      <th>1</th>\n",
       "      <td>0.80</td>\n",
       "      <td>0.86</td>\n",
       "      <td>5</td>\n",
       "      <td>262</td>\n",
       "      <td>6</td>\n",
       "      <td>0</td>\n",
       "      <td>1</td>\n",
       "      <td>0</td>\n",
       "      <td>sales</td>\n",
       "      <td>medium</td>\n",
       "    </tr>\n",
       "    <tr>\n",
       "      <th>2</th>\n",
       "      <td>0.11</td>\n",
       "      <td>0.88</td>\n",
       "      <td>7</td>\n",
       "      <td>272</td>\n",
       "      <td>4</td>\n",
       "      <td>0</td>\n",
       "      <td>1</td>\n",
       "      <td>0</td>\n",
       "      <td>sales</td>\n",
       "      <td>medium</td>\n",
       "    </tr>\n",
       "    <tr>\n",
       "      <th>3</th>\n",
       "      <td>0.72</td>\n",
       "      <td>0.87</td>\n",
       "      <td>5</td>\n",
       "      <td>223</td>\n",
       "      <td>5</td>\n",
       "      <td>0</td>\n",
       "      <td>1</td>\n",
       "      <td>0</td>\n",
       "      <td>sales</td>\n",
       "      <td>low</td>\n",
       "    </tr>\n",
       "    <tr>\n",
       "      <th>4</th>\n",
       "      <td>0.37</td>\n",
       "      <td>0.52</td>\n",
       "      <td>2</td>\n",
       "      <td>159</td>\n",
       "      <td>3</td>\n",
       "      <td>0</td>\n",
       "      <td>1</td>\n",
       "      <td>0</td>\n",
       "      <td>sales</td>\n",
       "      <td>low</td>\n",
       "    </tr>\n",
       "  </tbody>\n",
       "</table>\n",
       "</div>"
      ],
      "text/plain": [
       "   satisfaction_level  last_evaluation  number_project  average_montly_hours  \\\n",
       "0                0.38             0.53               2                   157   \n",
       "1                0.80             0.86               5                   262   \n",
       "2                0.11             0.88               7                   272   \n",
       "3                0.72             0.87               5                   223   \n",
       "4                0.37             0.52               2                   159   \n",
       "\n",
       "   time_spend_company  Work_accident  left  promotion_last_5years   dept  \\\n",
       "0                   3              0     1                      0  sales   \n",
       "1                   6              0     1                      0  sales   \n",
       "2                   4              0     1                      0  sales   \n",
       "3                   5              0     1                      0  sales   \n",
       "4                   3              0     1                      0  sales   \n",
       "\n",
       "   salary  \n",
       "0     low  \n",
       "1  medium  \n",
       "2  medium  \n",
       "3     low  \n",
       "4     low  "
      ]
     },
     "execution_count": 4,
     "metadata": {},
     "output_type": "execute_result"
    }
   ],
   "source": [
    "# Display the top 5 rows.\n",
    "df.head()"
   ]
  },
  {
   "cell_type": "code",
   "execution_count": 5,
   "id": "c0df1b80",
   "metadata": {
    "execution": {
     "iopub.execute_input": "2022-09-19T05:33:07.983907Z",
     "iopub.status.busy": "2022-09-19T05:33:07.983450Z",
     "iopub.status.idle": "2022-09-19T05:33:07.992163Z",
     "shell.execute_reply": "2022-09-19T05:33:07.990934Z"
    },
    "papermill": {
     "duration": 0.044739,
     "end_time": "2022-09-19T05:33:07.995020",
     "exception": false,
     "start_time": "2022-09-19T05:33:07.950281",
     "status": "completed"
    },
    "tags": []
   },
   "outputs": [
    {
     "data": {
      "text/plain": [
       "satisfaction_level       float64\n",
       "last_evaluation          float64\n",
       "number_project             int64\n",
       "average_montly_hours       int64\n",
       "time_spend_company         int64\n",
       "Work_accident              int64\n",
       "left                       int64\n",
       "promotion_last_5years      int64\n",
       "dept                      object\n",
       "salary                    object\n",
       "dtype: object"
      ]
     },
     "execution_count": 5,
     "metadata": {},
     "output_type": "execute_result"
    }
   ],
   "source": [
    "# Find the data types of columns\n",
    "df.dtypes"
   ]
  },
  {
   "cell_type": "code",
   "execution_count": 6,
   "id": "d8c2fc9d",
   "metadata": {
    "execution": {
     "iopub.execute_input": "2022-09-19T05:33:08.059701Z",
     "iopub.status.busy": "2022-09-19T05:33:08.059231Z",
     "iopub.status.idle": "2022-09-19T05:33:08.112604Z",
     "shell.execute_reply": "2022-09-19T05:33:08.111362Z"
    },
    "papermill": {
     "duration": 0.088707,
     "end_time": "2022-09-19T05:33:08.115159",
     "exception": false,
     "start_time": "2022-09-19T05:33:08.026452",
     "status": "completed"
    },
    "tags": []
   },
   "outputs": [
    {
     "data": {
      "text/html": [
       "<div>\n",
       "<style scoped>\n",
       "    .dataframe tbody tr th:only-of-type {\n",
       "        vertical-align: middle;\n",
       "    }\n",
       "\n",
       "    .dataframe tbody tr th {\n",
       "        vertical-align: top;\n",
       "    }\n",
       "\n",
       "    .dataframe thead th {\n",
       "        text-align: right;\n",
       "    }\n",
       "</style>\n",
       "<table border=\"1\" class=\"dataframe\">\n",
       "  <thead>\n",
       "    <tr style=\"text-align: right;\">\n",
       "      <th></th>\n",
       "      <th>satisfaction_level</th>\n",
       "      <th>last_evaluation</th>\n",
       "      <th>number_project</th>\n",
       "      <th>average_montly_hours</th>\n",
       "      <th>time_spend_company</th>\n",
       "      <th>Work_accident</th>\n",
       "      <th>left</th>\n",
       "      <th>promotion_last_5years</th>\n",
       "    </tr>\n",
       "  </thead>\n",
       "  <tbody>\n",
       "    <tr>\n",
       "      <th>count</th>\n",
       "      <td>14999.000000</td>\n",
       "      <td>14999.000000</td>\n",
       "      <td>14999.000000</td>\n",
       "      <td>14999.000000</td>\n",
       "      <td>14999.000000</td>\n",
       "      <td>14999.000000</td>\n",
       "      <td>14999.000000</td>\n",
       "      <td>14999.000000</td>\n",
       "    </tr>\n",
       "    <tr>\n",
       "      <th>mean</th>\n",
       "      <td>0.612834</td>\n",
       "      <td>0.716102</td>\n",
       "      <td>3.803054</td>\n",
       "      <td>201.050337</td>\n",
       "      <td>3.498233</td>\n",
       "      <td>0.144610</td>\n",
       "      <td>0.238083</td>\n",
       "      <td>0.021268</td>\n",
       "    </tr>\n",
       "    <tr>\n",
       "      <th>std</th>\n",
       "      <td>0.248631</td>\n",
       "      <td>0.171169</td>\n",
       "      <td>1.232592</td>\n",
       "      <td>49.943099</td>\n",
       "      <td>1.460136</td>\n",
       "      <td>0.351719</td>\n",
       "      <td>0.425924</td>\n",
       "      <td>0.144281</td>\n",
       "    </tr>\n",
       "    <tr>\n",
       "      <th>min</th>\n",
       "      <td>0.090000</td>\n",
       "      <td>0.360000</td>\n",
       "      <td>2.000000</td>\n",
       "      <td>96.000000</td>\n",
       "      <td>2.000000</td>\n",
       "      <td>0.000000</td>\n",
       "      <td>0.000000</td>\n",
       "      <td>0.000000</td>\n",
       "    </tr>\n",
       "    <tr>\n",
       "      <th>25%</th>\n",
       "      <td>0.440000</td>\n",
       "      <td>0.560000</td>\n",
       "      <td>3.000000</td>\n",
       "      <td>156.000000</td>\n",
       "      <td>3.000000</td>\n",
       "      <td>0.000000</td>\n",
       "      <td>0.000000</td>\n",
       "      <td>0.000000</td>\n",
       "    </tr>\n",
       "    <tr>\n",
       "      <th>50%</th>\n",
       "      <td>0.640000</td>\n",
       "      <td>0.720000</td>\n",
       "      <td>4.000000</td>\n",
       "      <td>200.000000</td>\n",
       "      <td>3.000000</td>\n",
       "      <td>0.000000</td>\n",
       "      <td>0.000000</td>\n",
       "      <td>0.000000</td>\n",
       "    </tr>\n",
       "    <tr>\n",
       "      <th>75%</th>\n",
       "      <td>0.820000</td>\n",
       "      <td>0.870000</td>\n",
       "      <td>5.000000</td>\n",
       "      <td>245.000000</td>\n",
       "      <td>4.000000</td>\n",
       "      <td>0.000000</td>\n",
       "      <td>0.000000</td>\n",
       "      <td>0.000000</td>\n",
       "    </tr>\n",
       "    <tr>\n",
       "      <th>max</th>\n",
       "      <td>1.000000</td>\n",
       "      <td>1.000000</td>\n",
       "      <td>7.000000</td>\n",
       "      <td>310.000000</td>\n",
       "      <td>10.000000</td>\n",
       "      <td>1.000000</td>\n",
       "      <td>1.000000</td>\n",
       "      <td>1.000000</td>\n",
       "    </tr>\n",
       "  </tbody>\n",
       "</table>\n",
       "</div>"
      ],
      "text/plain": [
       "       satisfaction_level  last_evaluation  number_project  \\\n",
       "count        14999.000000     14999.000000    14999.000000   \n",
       "mean             0.612834         0.716102        3.803054   \n",
       "std              0.248631         0.171169        1.232592   \n",
       "min              0.090000         0.360000        2.000000   \n",
       "25%              0.440000         0.560000        3.000000   \n",
       "50%              0.640000         0.720000        4.000000   \n",
       "75%              0.820000         0.870000        5.000000   \n",
       "max              1.000000         1.000000        7.000000   \n",
       "\n",
       "       average_montly_hours  time_spend_company  Work_accident          left  \\\n",
       "count          14999.000000        14999.000000   14999.000000  14999.000000   \n",
       "mean             201.050337            3.498233       0.144610      0.238083   \n",
       "std               49.943099            1.460136       0.351719      0.425924   \n",
       "min               96.000000            2.000000       0.000000      0.000000   \n",
       "25%              156.000000            3.000000       0.000000      0.000000   \n",
       "50%              200.000000            3.000000       0.000000      0.000000   \n",
       "75%              245.000000            4.000000       0.000000      0.000000   \n",
       "max              310.000000           10.000000       1.000000      1.000000   \n",
       "\n",
       "       promotion_last_5years  \n",
       "count           14999.000000  \n",
       "mean                0.021268  \n",
       "std                 0.144281  \n",
       "min                 0.000000  \n",
       "25%                 0.000000  \n",
       "50%                 0.000000  \n",
       "75%                 0.000000  \n",
       "max                 1.000000  "
      ]
     },
     "execution_count": 6,
     "metadata": {},
     "output_type": "execute_result"
    }
   ],
   "source": [
    "# Find the basic statistics\n",
    "df.describe()"
   ]
  },
  {
   "cell_type": "code",
   "execution_count": 7,
   "id": "f46b3322",
   "metadata": {
    "execution": {
     "iopub.execute_input": "2022-09-19T05:33:08.180558Z",
     "iopub.status.busy": "2022-09-19T05:33:08.180160Z",
     "iopub.status.idle": "2022-09-19T05:33:08.192484Z",
     "shell.execute_reply": "2022-09-19T05:33:08.191246Z"
    },
    "papermill": {
     "duration": 0.047621,
     "end_time": "2022-09-19T05:33:08.194888",
     "exception": false,
     "start_time": "2022-09-19T05:33:08.147267",
     "status": "completed"
    },
    "tags": []
   },
   "outputs": [
    {
     "data": {
      "text/plain": [
       "satisfaction_level       0\n",
       "last_evaluation          0\n",
       "number_project           0\n",
       "average_montly_hours     0\n",
       "time_spend_company       0\n",
       "Work_accident            0\n",
       "left                     0\n",
       "promotion_last_5years    0\n",
       "dept                     0\n",
       "salary                   0\n",
       "dtype: int64"
      ]
     },
     "execution_count": 7,
     "metadata": {},
     "output_type": "execute_result"
    }
   ],
   "source": [
    "# Find the null values\n",
    "df.isnull().sum()"
   ]
  },
  {
   "cell_type": "markdown",
   "id": "9fd1b55a",
   "metadata": {
    "papermill": {
     "duration": 0.031455,
     "end_time": "2022-09-19T05:33:08.258134",
     "exception": false,
     "start_time": "2022-09-19T05:33:08.226679",
     "status": "completed"
    },
    "tags": []
   },
   "source": [
    "# 3. Exploration"
   ]
  },
  {
   "cell_type": "markdown",
   "id": "b2d5a6ad",
   "metadata": {
    "papermill": {
     "duration": 0.031292,
     "end_time": "2022-09-19T05:33:08.321395",
     "exception": false,
     "start_time": "2022-09-19T05:33:08.290103",
     "status": "completed"
    },
    "tags": []
   },
   "source": [
    "Before moving ahead, let us check the details of different variables in the data"
   ]
  },
  {
   "cell_type": "markdown",
   "id": "36f62f77",
   "metadata": {
    "papermill": {
     "duration": 0.031651,
     "end_time": "2022-09-19T05:33:08.385411",
     "exception": false,
     "start_time": "2022-09-19T05:33:08.353760",
     "status": "completed"
    },
    "tags": []
   },
   "source": [
    "**Task 2: Find out the how many employees left the company?**"
   ]
  },
  {
   "cell_type": "code",
   "execution_count": 8,
   "id": "0befbedd",
   "metadata": {
    "execution": {
     "iopub.execute_input": "2022-09-19T05:33:08.450982Z",
     "iopub.status.busy": "2022-09-19T05:33:08.450532Z",
     "iopub.status.idle": "2022-09-19T05:33:08.705668Z",
     "shell.execute_reply": "2022-09-19T05:33:08.704326Z"
    },
    "papermill": {
     "duration": 0.290837,
     "end_time": "2022-09-19T05:33:08.708282",
     "exception": false,
     "start_time": "2022-09-19T05:33:08.417445",
     "status": "completed"
    },
    "tags": []
   },
   "outputs": [
    {
     "data": {
      "text/plain": [
       "<AxesSubplot:xlabel='left', ylabel='count'>"
      ]
     },
     "execution_count": 8,
     "metadata": {},
     "output_type": "execute_result"
    },
    {
     "data": {
      "image/png": "[encoded data removed]",
      "text/plain": [
       "<Figure size 432x288 with 1 Axes>"
      ]
     },
     "metadata": {
      "needs_background": "light"
     },
     "output_type": "display_data"
    }
   ],
   "source": [
    "# Count of how many employees left the company\n",
    "sns.countplot(x='left', data=df)"
   ]
  },
  {
   "cell_type": "markdown",
   "id": "69b9dffb",
   "metadata": {
    "papermill": {
     "duration": 0.032086,
     "end_time": "2022-09-19T05:33:08.774035",
     "exception": false,
     "start_time": "2022-09-19T05:33:08.741949",
     "status": "completed"
    },
    "tags": []
   },
   "source": [
    "**Question:What can you interpret from the plot above?** "
   ]
  },
  {
   "cell_type": "markdown",
   "id": "0490c856",
   "metadata": {
    "papermill": {
     "duration": 0.032458,
     "end_time": "2022-09-19T05:33:08.840274",
     "exception": false,
     "start_time": "2022-09-19T05:33:08.807816",
     "status": "completed"
    },
    "tags": []
   },
   "source": [
    "Answer:  Employee turnover is almost 20%"
   ]
  },
  {
   "cell_type": "markdown",
   "id": "99704eb0",
   "metadata": {
    "papermill": {
     "duration": 0.032742,
     "end_time": "2022-09-19T05:33:08.906082",
     "exception": false,
     "start_time": "2022-09-19T05:33:08.873340",
     "status": "completed"
    },
    "tags": []
   },
   "source": [
    "**Task 3: Find out the number of projects being handled.**"
   ]
  },
  {
   "cell_type": "code",
   "execution_count": 9,
   "id": "af4d75d3",
   "metadata": {
    "execution": {
     "iopub.execute_input": "2022-09-19T05:33:08.975661Z",
     "iopub.status.busy": "2022-09-19T05:33:08.974491Z",
     "iopub.status.idle": "2022-09-19T05:33:09.218178Z",
     "shell.execute_reply": "2022-09-19T05:33:09.216728Z"
    },
    "papermill": {
     "duration": 0.280938,
     "end_time": "2022-09-19T05:33:09.220846",
     "exception": false,
     "start_time": "2022-09-19T05:33:08.939908",
     "status": "completed"
    },
    "tags": []
   },
   "outputs": [
    {
     "data": {
      "text/plain": [
       "<AxesSubplot:xlabel='number_project', ylabel='count'>"
      ]
     },
     "execution_count": 9,
     "metadata": {},
     "output_type": "execute_result"
    },
    {
     "data": {
      "image/png": "[encoded data removed]",
      "text/plain": [
       "<Figure size 432x288 with 1 Axes>"
      ]
     },
     "metadata": {
      "needs_background": "light"
     },
     "output_type": "display_data"
    }
   ],
   "source": [
    "# Write code here\n",
    "sns.countplot(x='number_project', data=df,color='b')"
   ]
  },
  {
   "cell_type": "markdown",
   "id": "a6a87b17",
   "metadata": {
    "papermill": {
     "duration": 0.032572,
     "end_time": "2022-09-19T05:33:09.286163",
     "exception": false,
     "start_time": "2022-09-19T05:33:09.253591",
     "status": "completed"
    },
    "tags": []
   },
   "source": [
    "**Question: What insights can you infer from the above plot?**"
   ]
  },
  {
   "cell_type": "markdown",
   "id": "3d6f04a5",
   "metadata": {
    "papermill": {
     "duration": 0.033106,
     "end_time": "2022-09-19T05:33:09.353848",
     "exception": false,
     "start_time": "2022-09-19T05:33:09.320742",
     "status": "completed"
    },
    "tags": []
   },
   "source": [
    "Answer: Most of the employees are handling 3 to 5 number of projects"
   ]
  },
  {
   "cell_type": "markdown",
   "id": "eb6215e8",
   "metadata": {
    "papermill": {
     "duration": 0.033373,
     "end_time": "2022-09-19T05:33:09.419503",
     "exception": false,
     "start_time": "2022-09-19T05:33:09.386130",
     "status": "completed"
    },
    "tags": []
   },
   "source": [
    "**Task 4: Find out how number of projects contributed to employee turn-over.**\n",
    "<br>\n",
    "<br>"
   ]
  },
  {
   "cell_type": "markdown",
   "id": "91c8a428",
   "metadata": {
    "papermill": {
     "duration": 0.032442,
     "end_time": "2022-09-19T05:33:09.484472",
     "exception": false,
     "start_time": "2022-09-19T05:33:09.452030",
     "status": "completed"
    },
    "tags": []
   },
   "source": [
    "Now we want to see how number of projects contribute to employee turn-over.\n",
    "For this purpose, we can do a groupby as shown below. The final results show the of employees leaving the company against each number of projects ."
   ]
  },
  {
   "cell_type": "code",
   "execution_count": 10,
   "id": "b9c646db",
   "metadata": {
    "execution": {
     "iopub.execute_input": "2022-09-19T05:33:09.551903Z",
     "iopub.status.busy": "2022-09-19T05:33:09.551125Z",
     "iopub.status.idle": "2022-09-19T05:33:09.560938Z",
     "shell.execute_reply": "2022-09-19T05:33:09.560079Z"
    },
    "papermill": {
     "duration": 0.046296,
     "end_time": "2022-09-19T05:33:09.563469",
     "exception": false,
     "start_time": "2022-09-19T05:33:09.517173",
     "status": "completed"
    },
    "tags": []
   },
   "outputs": [],
   "source": [
    "df_proj=df.groupby('number_project')['left'].value_counts(normalize=True).reset_index(name='perc')\n",
    "df_proj['perc']=df_proj['perc']*100"
   ]
  },
  {
   "cell_type": "code",
   "execution_count": 11,
   "id": "150a1d8d",
   "metadata": {
    "execution": {
     "iopub.execute_input": "2022-09-19T05:33:09.631160Z",
     "iopub.status.busy": "2022-09-19T05:33:09.630354Z",
     "iopub.status.idle": "2022-09-19T05:33:09.641779Z",
     "shell.execute_reply": "2022-09-19T05:33:09.640934Z"
    },
    "papermill": {
     "duration": 0.047945,
     "end_time": "2022-09-19T05:33:09.644185",
     "exception": false,
     "start_time": "2022-09-19T05:33:09.596240",
     "status": "completed"
    },
    "tags": []
   },
   "outputs": [
    {
     "data": {
      "text/html": [
       "<div>\n",
       "<style scoped>\n",
       "    .dataframe tbody tr th:only-of-type {\n",
       "        vertical-align: middle;\n",
       "    }\n",
       "\n",
       "    .dataframe tbody tr th {\n",
       "        vertical-align: top;\n",
       "    }\n",
       "\n",
       "    .dataframe thead th {\n",
       "        text-align: right;\n",
       "    }\n",
       "</style>\n",
       "<table border=\"1\" class=\"dataframe\">\n",
       "  <thead>\n",
       "    <tr style=\"text-align: right;\">\n",
       "      <th></th>\n",
       "      <th>number_project</th>\n",
       "      <th>left</th>\n",
       "      <th>perc</th>\n",
       "    </tr>\n",
       "  </thead>\n",
       "  <tbody>\n",
       "    <tr>\n",
       "      <th>0</th>\n",
       "      <td>2</td>\n",
       "      <td>1</td>\n",
       "      <td>65.619765</td>\n",
       "    </tr>\n",
       "    <tr>\n",
       "      <th>1</th>\n",
       "      <td>2</td>\n",
       "      <td>0</td>\n",
       "      <td>34.380235</td>\n",
       "    </tr>\n",
       "    <tr>\n",
       "      <th>2</th>\n",
       "      <td>3</td>\n",
       "      <td>0</td>\n",
       "      <td>98.224414</td>\n",
       "    </tr>\n",
       "    <tr>\n",
       "      <th>3</th>\n",
       "      <td>3</td>\n",
       "      <td>1</td>\n",
       "      <td>1.775586</td>\n",
       "    </tr>\n",
       "    <tr>\n",
       "      <th>4</th>\n",
       "      <td>4</td>\n",
       "      <td>0</td>\n",
       "      <td>90.630011</td>\n",
       "    </tr>\n",
       "    <tr>\n",
       "      <th>5</th>\n",
       "      <td>4</td>\n",
       "      <td>1</td>\n",
       "      <td>9.369989</td>\n",
       "    </tr>\n",
       "    <tr>\n",
       "      <th>6</th>\n",
       "      <td>5</td>\n",
       "      <td>0</td>\n",
       "      <td>77.834118</td>\n",
       "    </tr>\n",
       "    <tr>\n",
       "      <th>7</th>\n",
       "      <td>5</td>\n",
       "      <td>1</td>\n",
       "      <td>22.165882</td>\n",
       "    </tr>\n",
       "    <tr>\n",
       "      <th>8</th>\n",
       "      <td>6</td>\n",
       "      <td>1</td>\n",
       "      <td>55.792164</td>\n",
       "    </tr>\n",
       "    <tr>\n",
       "      <th>9</th>\n",
       "      <td>6</td>\n",
       "      <td>0</td>\n",
       "      <td>44.207836</td>\n",
       "    </tr>\n",
       "    <tr>\n",
       "      <th>10</th>\n",
       "      <td>7</td>\n",
       "      <td>1</td>\n",
       "      <td>100.000000</td>\n",
       "    </tr>\n",
       "  </tbody>\n",
       "</table>\n",
       "</div>"
      ],
      "text/plain": [
       "    number_project  left        perc\n",
       "0                2     1   65.619765\n",
       "1                2     0   34.380235\n",
       "2                3     0   98.224414\n",
       "3                3     1    1.775586\n",
       "4                4     0   90.630011\n",
       "5                4     1    9.369989\n",
       "6                5     0   77.834118\n",
       "7                5     1   22.165882\n",
       "8                6     1   55.792164\n",
       "9                6     0   44.207836\n",
       "10               7     1  100.000000"
      ]
     },
     "execution_count": 11,
     "metadata": {},
     "output_type": "execute_result"
    }
   ],
   "source": [
    "df_proj"
   ]
  },
  {
   "cell_type": "markdown",
   "id": "35be7ed9",
   "metadata": {
    "papermill": {
     "duration": 0.032767,
     "end_time": "2022-09-19T05:33:09.710243",
     "exception": false,
     "start_time": "2022-09-19T05:33:09.677476",
     "status": "completed"
    },
    "tags": []
   },
   "source": [
    "**Task 5:** Make a plot of your findings (only turn-over employees)"
   ]
  },
  {
   "cell_type": "code",
   "execution_count": 12,
   "id": "d4cd2c73",
   "metadata": {
    "execution": {
     "iopub.execute_input": "2022-09-19T05:33:09.779471Z",
     "iopub.status.busy": "2022-09-19T05:33:09.778668Z",
     "iopub.status.idle": "2022-09-19T05:33:10.032266Z",
     "shell.execute_reply": "2022-09-19T05:33:10.030989Z"
    },
    "papermill": {
     "duration": 0.291833,
     "end_time": "2022-09-19T05:33:10.034991",
     "exception": false,
     "start_time": "2022-09-19T05:33:09.743158",
     "status": "completed"
    },
    "tags": []
   },
   "outputs": [
    {
     "data": {
      "text/plain": [
       "<AxesSubplot:xlabel='number_project', ylabel='perc'>"
      ]
     },
     "execution_count": 12,
     "metadata": {},
     "output_type": "execute_result"
    },
    {
     "data": {
      "image/png": "[encoded data removed]",
      "text/plain": [
       "<Figure size 432x288 with 1 Axes>"
      ]
     },
     "metadata": {
      "needs_background": "light"
     },
     "output_type": "display_data"
    }
   ],
   "source": [
    "sns.barplot(x='number_project', y='perc', data=df_proj[df_proj['left']==1], color='b')"
   ]
  },
  {
   "cell_type": "markdown",
   "id": "196c5a3f",
   "metadata": {
    "papermill": {
     "duration": 0.035082,
     "end_time": "2022-09-19T05:33:10.105333",
     "exception": false,
     "start_time": "2022-09-19T05:33:10.070251",
     "status": "completed"
    },
    "tags": []
   },
   "source": [
    "**Question: What can you conclude from the above graph? Which people are leaving the company(as per number of projects)? What can be the reasons behind?**"
   ]
  },
  {
   "cell_type": "markdown",
   "id": "c6b43d26",
   "metadata": {
    "papermill": {
     "duration": 0.034445,
     "end_time": "2022-09-19T05:33:10.174851",
     "exception": false,
     "start_time": "2022-09-19T05:33:10.140406",
     "status": "completed"
    },
    "tags": []
   },
   "source": [
    "Answer: The above plot shows that the employees handling 6,7 projects or 2 project\n",
    "are most likely to leave.\n",
    "\n",
    "either too much workload\n",
    "\n",
    "workload not satisfactory"
   ]
  },
  {
   "cell_type": "markdown",
   "id": "53177427",
   "metadata": {
    "papermill": {
     "duration": 0.033097,
     "end_time": "2022-09-19T05:33:10.243027",
     "exception": false,
     "start_time": "2022-09-19T05:33:10.209930",
     "status": "completed"
    },
    "tags": []
   },
   "source": [
    "## **Time spent at the company**"
   ]
  },
  {
   "cell_type": "markdown",
   "id": "c8c41228",
   "metadata": {
    "papermill": {
     "duration": 0.032954,
     "end_time": "2022-09-19T05:33:10.310093",
     "exception": false,
     "start_time": "2022-09-19T05:33:10.277139",
     "status": "completed"
    },
    "tags": []
   },
   "source": [
    "**Task 6: Find out how time spend at company can lead to employee turn over. Show the following plots.**<br>\n",
    "- Count of Number of years spent by employees.\n",
    "- After how many years are mostly employees leaving the company? "
   ]
  },
  {
   "cell_type": "markdown",
   "id": "f1dcb153",
   "metadata": {
    "papermill": {
     "duration": 0.03373,
     "end_time": "2022-09-19T05:33:10.377194",
     "exception": false,
     "start_time": "2022-09-19T05:33:10.343464",
     "status": "completed"
    },
    "tags": []
   },
   "source": [
    "*Hint: For the second part do the similar procedure as done in case of 'number_projects' above. Try to find the **percetage** to show that after how much time/years did most of employees exactly leave.*"
   ]
  },
  {
   "cell_type": "code",
   "execution_count": 13,
   "id": "bf5ea541",
   "metadata": {
    "execution": {
     "iopub.execute_input": "2022-09-19T05:33:10.446203Z",
     "iopub.status.busy": "2022-09-19T05:33:10.444901Z",
     "iopub.status.idle": "2022-09-19T05:33:10.716333Z",
     "shell.execute_reply": "2022-09-19T05:33:10.715035Z"
    },
    "papermill": {
     "duration": 0.308729,
     "end_time": "2022-09-19T05:33:10.719163",
     "exception": false,
     "start_time": "2022-09-19T05:33:10.410434",
     "status": "completed"
    },
    "tags": []
   },
   "outputs": [
    {
     "data": {
      "text/plain": [
       "<AxesSubplot:xlabel='time_spend_company', ylabel='count'>"
      ]
     },
     "execution_count": 13,
     "metadata": {},
     "output_type": "execute_result"
    },
    {
     "data": {
      "image/png": "[encoded data removed]",
      "text/plain": [
       "<Figure size 432x288 with 1 Axes>"
      ]
     },
     "metadata": {
      "needs_background": "light"
     },
     "output_type": "display_data"
    }
   ],
   "source": [
    "# Show the plot for the count of years here\n",
    "sns.countplot(x='time_spend_company', data=df,color='b')"
   ]
  },
  {
   "cell_type": "markdown",
   "id": "e09ee432",
   "metadata": {
    "papermill": {
     "duration": 0.032898,
     "end_time": "2022-09-19T05:33:10.785410",
     "exception": false,
     "start_time": "2022-09-19T05:33:10.752512",
     "status": "completed"
    },
    "tags": []
   },
   "source": [
    "**Question: What is the maximum number of time spend by the employees?**"
   ]
  },
  {
   "cell_type": "markdown",
   "id": "47bc659e",
   "metadata": {
    "papermill": {
     "duration": 0.03376,
     "end_time": "2022-09-19T05:33:10.852657",
     "exception": false,
     "start_time": "2022-09-19T05:33:10.818897",
     "status": "completed"
    },
    "tags": []
   },
   "source": [
    "Answer: The employees are spending 3 years in the company and after 3 to 4 years there is big drop in the employee count."
   ]
  },
  {
   "cell_type": "code",
   "execution_count": 14,
   "id": "eab06042",
   "metadata": {
    "execution": {
     "iopub.execute_input": "2022-09-19T05:33:10.922309Z",
     "iopub.status.busy": "2022-09-19T05:33:10.921486Z",
     "iopub.status.idle": "2022-09-19T05:33:10.932435Z",
     "shell.execute_reply": "2022-09-19T05:33:10.931583Z"
    },
    "papermill": {
     "duration": 0.04908,
     "end_time": "2022-09-19T05:33:10.934959",
     "exception": false,
     "start_time": "2022-09-19T05:33:10.885879",
     "status": "completed"
    },
    "tags": []
   },
   "outputs": [],
   "source": [
    "# Write the code here to get the percentage of employees leaving.\n",
    "df_time=df.groupby('time_spend_company')['left'].value_counts(normalize=True).reset_index(name='perc')\n",
    "df_time['perc']=df_time['perc']*100"
   ]
  },
  {
   "cell_type": "code",
   "execution_count": 15,
   "id": "7550075b",
   "metadata": {
    "execution": {
     "iopub.execute_input": "2022-09-19T05:33:11.004593Z",
     "iopub.status.busy": "2022-09-19T05:33:11.003911Z",
     "iopub.status.idle": "2022-09-19T05:33:11.251845Z",
     "shell.execute_reply": "2022-09-19T05:33:11.250618Z"
    },
    "papermill": {
     "duration": 0.28589,
     "end_time": "2022-09-19T05:33:11.254606",
     "exception": false,
     "start_time": "2022-09-19T05:33:10.968716",
     "status": "completed"
    },
    "tags": []
   },
   "outputs": [
    {
     "data": {
      "text/plain": [
       "<AxesSubplot:xlabel='time_spend_company', ylabel='perc'>"
      ]
     },
     "execution_count": 15,
     "metadata": {},
     "output_type": "execute_result"
    },
    {
     "data": {
      "image/png": "[encoded data removed]",
      "text/plain": [
       "<Figure size 432x288 with 1 Axes>"
      ]
     },
     "metadata": {
      "needs_background": "light"
     },
     "output_type": "display_data"
    }
   ],
   "source": [
    "# Write the code here to draw a bar plot showing years after which employees are likely to leave\n",
    "sns.barplot(x='time_spend_company', y='perc', data = df_time[df_time['left']==1],color='b')"
   ]
  },
  {
   "cell_type": "markdown",
   "id": "2cf8a832",
   "metadata": {
    "papermill": {
     "duration": 0.03476,
     "end_time": "2022-09-19T05:33:11.324973",
     "exception": false,
     "start_time": "2022-09-19T05:33:11.290213",
     "status": "completed"
    },
    "tags": []
   },
   "source": [
    "**Question: After what time period are employees most likely to leave the company ?**"
   ]
  },
  {
   "cell_type": "markdown",
   "id": "03777d57",
   "metadata": {
    "papermill": {
     "duration": 0.033511,
     "end_time": "2022-09-19T05:33:11.392293",
     "exception": false,
     "start_time": "2022-09-19T05:33:11.358782",
     "status": "completed"
    },
    "tags": []
   },
   "source": [
    "Answer:Most number of employees are leaving after 5 years. The reason could be that employees might be waiting for certain offer to get matured most probably after 5 years, after achieving this they are leaving the company."
   ]
  },
  {
   "cell_type": "markdown",
   "id": "84494026",
   "metadata": {
    "papermill": {
     "duration": 0.033678,
     "end_time": "2022-09-19T05:33:11.459829",
     "exception": false,
     "start_time": "2022-09-19T05:33:11.426151",
     "status": "completed"
    },
    "tags": []
   },
   "source": [
    "## **Employees engaged in any work accident**"
   ]
  },
  {
   "cell_type": "markdown",
   "id": "ae4ed84e",
   "metadata": {
    "papermill": {
     "duration": 0.033673,
     "end_time": "2022-09-19T05:33:11.527051",
     "exception": false,
     "start_time": "2022-09-19T05:33:11.493378",
     "status": "completed"
    },
    "tags": []
   },
   "source": [
    "**Task 7: Find out that how many employees were engaged in work accident and how many of them actually left? Use count plots to show your results**"
   ]
  },
  {
   "cell_type": "code",
   "execution_count": 16,
   "id": "42064a37",
   "metadata": {
    "execution": {
     "iopub.execute_input": "2022-09-19T05:33:11.597105Z",
     "iopub.status.busy": "2022-09-19T05:33:11.596675Z",
     "iopub.status.idle": "2022-09-19T05:33:11.813927Z",
     "shell.execute_reply": "2022-09-19T05:33:11.812717Z"
    },
    "papermill": {
     "duration": 0.255566,
     "end_time": "2022-09-19T05:33:11.816307",
     "exception": false,
     "start_time": "2022-09-19T05:33:11.560741",
     "status": "completed"
    },
    "tags": []
   },
   "outputs": [
    {
     "data": {
      "text/plain": [
       "<AxesSubplot:xlabel='Work_accident', ylabel='count'>"
      ]
     },
     "execution_count": 16,
     "metadata": {},
     "output_type": "execute_result"
    },
    {
     "data": {
      "image/png": "[encoded data removed]",
      "text/plain": [
       "<Figure size 432x288 with 1 Axes>"
      ]
     },
     "metadata": {
      "needs_background": "light"
     },
     "output_type": "display_data"
    }
   ],
   "source": [
    "# Number of employees involved in work accident\n",
    "sns.countplot(x='Work_accident', data=df)"
   ]
  },
  {
   "cell_type": "markdown",
   "id": "38f297c1",
   "metadata": {
    "papermill": {
     "duration": 0.034985,
     "end_time": "2022-09-19T05:33:11.886820",
     "exception": false,
     "start_time": "2022-09-19T05:33:11.851835",
     "status": "completed"
    },
    "tags": []
   },
   "source": [
    "**Question: What can you conclude from the graph above?**"
   ]
  },
  {
   "cell_type": "markdown",
   "id": "5183c53f",
   "metadata": {
    "papermill": {
     "duration": 0.03401,
     "end_time": "2022-09-19T05:33:11.955024",
     "exception": false,
     "start_time": "2022-09-19T05:33:11.921014",
     "status": "completed"
    },
    "tags": []
   },
   "source": [
    "Answer: "
   ]
  },
  {
   "cell_type": "markdown",
   "id": "79573d09",
   "metadata": {
    "papermill": {
     "duration": 0.034691,
     "end_time": "2022-09-19T05:33:12.025695",
     "exception": false,
     "start_time": "2022-09-19T05:33:11.991004",
     "status": "completed"
    },
    "tags": []
   },
   "source": [
    "Not many employees have been a victim of any work accident# Number of employees involved in work accident and left or not left\n"
   ]
  },
  {
   "cell_type": "markdown",
   "id": "0ef5235b",
   "metadata": {
    "papermill": {
     "duration": 0.034608,
     "end_time": "2022-09-19T05:33:12.095146",
     "exception": false,
     "start_time": "2022-09-19T05:33:12.060538",
     "status": "completed"
    },
    "tags": []
   },
   "source": [
    "## **Promotions in last 5 years**"
   ]
  },
  {
   "cell_type": "markdown",
   "id": "fb741b7d",
   "metadata": {
    "papermill": {
     "duration": 0.03448,
     "end_time": "2022-09-19T05:33:12.163928",
     "exception": false,
     "start_time": "2022-09-19T05:33:12.129448",
     "status": "completed"
    },
    "tags": []
   },
   "source": [
    "**Task 8: How many number of employees got the promotion in last 5 year and how many of them left?**"
   ]
  },
  {
   "cell_type": "code",
   "execution_count": 17,
   "id": "5e0cd997",
   "metadata": {
    "execution": {
     "iopub.execute_input": "2022-09-19T05:33:12.235162Z",
     "iopub.status.busy": "2022-09-19T05:33:12.234714Z",
     "iopub.status.idle": "2022-09-19T05:33:12.480109Z",
     "shell.execute_reply": "2022-09-19T05:33:12.478739Z"
    },
    "papermill": {
     "duration": 0.284114,
     "end_time": "2022-09-19T05:33:12.482961",
     "exception": false,
     "start_time": "2022-09-19T05:33:12.198847",
     "status": "completed"
    },
    "scrolled": true,
    "tags": []
   },
   "outputs": [
    {
     "data": {
      "text/plain": [
       "<AxesSubplot:xlabel='promotion_last_5years', ylabel='count'>"
      ]
     },
     "execution_count": 17,
     "metadata": {},
     "output_type": "execute_result"
    },
    {
     "data": {
      "image/png": "[encoded data removed]",
      "text/plain": [
       "<Figure size 432x288 with 1 Axes>"
      ]
     },
     "metadata": {
      "needs_background": "light"
     },
     "output_type": "display_data"
    }
   ],
   "source": [
    "# Write code here\n",
    "sns.countplot(x='promotion_last_5years', data=df, hue='left')"
   ]
  },
  {
   "cell_type": "markdown",
   "id": "4f119aa7",
   "metadata": {
    "papermill": {
     "duration": 0.035969,
     "end_time": "2022-09-19T05:33:12.555487",
     "exception": false,
     "start_time": "2022-09-19T05:33:12.519518",
     "status": "completed"
    },
    "tags": []
   },
   "source": [
    "Answer:   Plot shows that employees not getting promotions are most likely to churn where as the employees getting promotions are less and not likely to leave."
   ]
  },
  {
   "cell_type": "markdown",
   "id": "4494c265",
   "metadata": {
    "papermill": {
     "duration": 0.034881,
     "end_time": "2022-09-19T05:33:12.625011",
     "exception": false,
     "start_time": "2022-09-19T05:33:12.590130",
     "status": "completed"
    },
    "tags": []
   },
   "source": [
    "## **Salary trends**"
   ]
  },
  {
   "cell_type": "markdown",
   "id": "d18cc089",
   "metadata": {
    "papermill": {
     "duration": 0.03458,
     "end_time": "2022-09-19T05:33:12.693889",
     "exception": false,
     "start_time": "2022-09-19T05:33:12.659309",
     "status": "completed"
    },
    "tags": []
   },
   "source": [
    "**Task 9: What are the salary trends in the data? Use graphical representation for explanation**"
   ]
  },
  {
   "cell_type": "code",
   "execution_count": 18,
   "id": "ee48e9d1",
   "metadata": {
    "execution": {
     "iopub.execute_input": "2022-09-19T05:33:12.767270Z",
     "iopub.status.busy": "2022-09-19T05:33:12.766610Z",
     "iopub.status.idle": "2022-09-19T05:33:12.999916Z",
     "shell.execute_reply": "2022-09-19T05:33:12.999003Z"
    },
    "papermill": {
     "duration": 0.272611,
     "end_time": "2022-09-19T05:33:13.002584",
     "exception": false,
     "start_time": "2022-09-19T05:33:12.729973",
     "status": "completed"
    },
    "tags": []
   },
   "outputs": [
    {
     "data": {
      "text/plain": [
       "<AxesSubplot:xlabel='salary', ylabel='count'>"
      ]
     },
     "execution_count": 18,
     "metadata": {},
     "output_type": "execute_result"
    },
    {
     "data": {
      "image/png": "[encoded data removed]",
      "text/plain": [
       "<Figure size 432x288 with 1 Axes>"
      ]
     },
     "metadata": {
      "needs_background": "light"
     },
     "output_type": "display_data"
    }
   ],
   "source": [
    "#Write code here\n",
    "sns.countplot(x='salary',data=df,color='b')"
   ]
  },
  {
   "cell_type": "markdown",
   "id": "47343eb8",
   "metadata": {
    "papermill": {
     "duration": 0.035373,
     "end_time": "2022-09-19T05:33:13.073236",
     "exception": false,
     "start_time": "2022-09-19T05:33:13.037863",
     "status": "completed"
    },
    "tags": []
   },
   "source": [
    "Answer:  We can see from the graph that a less number of emloyees are getting paid highly."
   ]
  },
  {
   "cell_type": "markdown",
   "id": "04dda94a",
   "metadata": {
    "papermill": {
     "duration": 0.035739,
     "end_time": "2022-09-19T05:33:13.144133",
     "exception": false,
     "start_time": "2022-09-19T05:33:13.108394",
     "status": "completed"
    },
    "tags": []
   },
   "source": [
    "**Quesion: Which type salary holders are most likely to leave? Try to show the percentage of employees who left according to their salaries, using a bar plot or as you like.**"
   ]
  },
  {
   "cell_type": "code",
   "execution_count": 19,
   "id": "02625b94",
   "metadata": {
    "execution": {
     "iopub.execute_input": "2022-09-19T05:33:13.217547Z",
     "iopub.status.busy": "2022-09-19T05:33:13.216780Z",
     "iopub.status.idle": "2022-09-19T05:33:13.229030Z",
     "shell.execute_reply": "2022-09-19T05:33:13.227285Z"
    },
    "papermill": {
     "duration": 0.051992,
     "end_time": "2022-09-19T05:33:13.232081",
     "exception": false,
     "start_time": "2022-09-19T05:33:13.180089",
     "status": "completed"
    },
    "tags": []
   },
   "outputs": [],
   "source": [
    "# Write code here\n",
    "df_sal=df.groupby('salary')['left'].value_counts(normalize=True).reset_index(name='perc')\n",
    "df_sal['perc']=df_sal['perc']*100"
   ]
  },
  {
   "cell_type": "code",
   "execution_count": 20,
   "id": "41e460df",
   "metadata": {
    "execution": {
     "iopub.execute_input": "2022-09-19T05:33:13.304856Z",
     "iopub.status.busy": "2022-09-19T05:33:13.304397Z",
     "iopub.status.idle": "2022-09-19T05:33:13.526423Z",
     "shell.execute_reply": "2022-09-19T05:33:13.525163Z"
    },
    "papermill": {
     "duration": 0.262173,
     "end_time": "2022-09-19T05:33:13.529560",
     "exception": false,
     "start_time": "2022-09-19T05:33:13.267387",
     "status": "completed"
    },
    "tags": []
   },
   "outputs": [
    {
     "data": {
      "text/plain": [
       "<AxesSubplot:xlabel='salary', ylabel='perc'>"
      ]
     },
     "execution_count": 20,
     "metadata": {},
     "output_type": "execute_result"
    },
    {
     "data": {
      "image/png": "[encoded data removed]",
      "text/plain": [
       "<Figure size 432x288 with 1 Axes>"
      ]
     },
     "metadata": {
      "needs_background": "light"
     },
     "output_type": "display_data"
    }
   ],
   "source": [
    "# Write code here for plot\n",
    "sns.barplot(x='salary',y='perc', data=df_sal[df_sal['left']==1],color='b')"
   ]
  },
  {
   "cell_type": "markdown",
   "id": "39854fba",
   "metadata": {
    "papermill": {
     "duration": 0.035717,
     "end_time": "2022-09-19T05:33:13.602306",
     "exception": false,
     "start_time": "2022-09-19T05:33:13.566589",
     "status": "completed"
    },
    "tags": []
   },
   "source": [
    "**Question: What does the above plot show?**"
   ]
  },
  {
   "cell_type": "markdown",
   "id": "b2e6be6e",
   "metadata": {
    "papermill": {
     "duration": 0.035289,
     "end_time": "2022-09-19T05:33:13.673463",
     "exception": false,
     "start_time": "2022-09-19T05:33:13.638174",
     "status": "completed"
    },
    "tags": []
   },
   "source": [
    "Answer:Answer: Plot shows that employees with low sallary are leaving the country"
   ]
  },
  {
   "cell_type": "markdown",
   "id": "5adb8cb0",
   "metadata": {
    "papermill": {
     "duration": 0.03758,
     "end_time": "2022-09-19T05:33:13.746536",
     "exception": false,
     "start_time": "2022-09-19T05:33:13.708956",
     "status": "completed"
    },
    "tags": []
   },
   "source": [
    "## **Employees per Department**"
   ]
  },
  {
   "cell_type": "markdown",
   "id": "997995c8",
   "metadata": {
    "papermill": {
     "duration": 0.037842,
     "end_time": "2022-09-19T05:33:13.823005",
     "exception": false,
     "start_time": "2022-09-19T05:33:13.785163",
     "status": "completed"
    },
    "tags": []
   },
   "source": [
    "**Task 10: Find out employees per department and also see which which department has highest number of employees leaving the company.**"
   ]
  },
  {
   "cell_type": "code",
   "execution_count": 21,
   "id": "d66b1732",
   "metadata": {
    "execution": {
     "iopub.execute_input": "2022-09-19T05:33:13.899238Z",
     "iopub.status.busy": "2022-09-19T05:33:13.898827Z",
     "iopub.status.idle": "2022-09-19T05:33:14.262823Z",
     "shell.execute_reply": "2022-09-19T05:33:14.261583Z"
    },
    "papermill": {
     "duration": 0.404056,
     "end_time": "2022-09-19T05:33:14.265336",
     "exception": false,
     "start_time": "2022-09-19T05:33:13.861280",
     "status": "completed"
    },
    "tags": []
   },
   "outputs": [
    {
     "data": {
      "text/plain": [
       "<AxesSubplot:xlabel='dept', ylabel='count'>"
      ]
     },
     "execution_count": 21,
     "metadata": {},
     "output_type": "execute_result"
    },
    {
     "data": {
      "image/png": "[encoded data removed]",
      "text/plain": [
       "<Figure size 1440x720 with 1 Axes>"
      ]
     },
     "metadata": {
      "needs_background": "light"
     },
     "output_type": "display_data"
    }
   ],
   "source": [
    "# Write the code here to check employee count in each department. You can use a graphical representation or use simple code to check.\n",
    "plt.figure(figsize=(20,10))\n",
    "sns.countplot(x='dept', data=df,color='b')"
   ]
  },
  {
   "cell_type": "markdown",
   "id": "fba6d6c5",
   "metadata": {
    "papermill": {
     "duration": 0.035809,
     "end_time": "2022-09-19T05:33:14.337984",
     "exception": false,
     "start_time": "2022-09-19T05:33:14.302175",
     "status": "completed"
    },
    "tags": []
   },
   "source": [
    "**Question: Which department has maximum number of employees?**"
   ]
  },
  {
   "cell_type": "markdown",
   "id": "1dea06c2",
   "metadata": {
    "papermill": {
     "duration": 0.035971,
     "end_time": "2022-09-19T05:33:14.410257",
     "exception": false,
     "start_time": "2022-09-19T05:33:14.374286",
     "status": "completed"
    },
    "tags": []
   },
   "source": [
    "Answer:The plot shows that sale has most number of employees followed by techincal department and then followed by support"
   ]
  },
  {
   "cell_type": "markdown",
   "id": "88a0ef58",
   "metadata": {
    "papermill": {
     "duration": 0.036007,
     "end_time": "2022-09-19T05:33:14.483111",
     "exception": false,
     "start_time": "2022-09-19T05:33:14.447104",
     "status": "completed"
    },
    "tags": []
   },
   "source": [
    "**Question: Which department has highest percentage of turn-over? Use graphical representation to find out.**"
   ]
  },
  {
   "cell_type": "code",
   "execution_count": 22,
   "id": "10fb101d",
   "metadata": {
    "execution": {
     "iopub.execute_input": "2022-09-19T05:33:14.630601Z",
     "iopub.status.busy": "2022-09-19T05:33:14.630202Z",
     "iopub.status.idle": "2022-09-19T05:33:14.641738Z",
     "shell.execute_reply": "2022-09-19T05:33:14.640883Z"
    },
    "papermill": {
     "duration": 0.119954,
     "end_time": "2022-09-19T05:33:14.644045",
     "exception": false,
     "start_time": "2022-09-19T05:33:14.524091",
     "status": "completed"
    },
    "tags": []
   },
   "outputs": [],
   "source": [
    "# Write code here\n",
    "df_dept=df.groupby('dept')['left'].value_counts(normalize=True).reset_index(name='perc')\n",
    "df_dept['perc']=df_dept['perc']*100"
   ]
  },
  {
   "cell_type": "code",
   "execution_count": 23,
   "id": "94f057a4",
   "metadata": {
    "execution": {
     "iopub.execute_input": "2022-09-19T05:33:14.720935Z",
     "iopub.status.busy": "2022-09-19T05:33:14.719723Z",
     "iopub.status.idle": "2022-09-19T05:33:15.034979Z",
     "shell.execute_reply": "2022-09-19T05:33:15.033972Z"
    },
    "papermill": {
     "duration": 0.356608,
     "end_time": "2022-09-19T05:33:15.037358",
     "exception": false,
     "start_time": "2022-09-19T05:33:14.680750",
     "status": "completed"
    },
    "tags": []
   },
   "outputs": [
    {
     "data": {
      "text/plain": [
       "<AxesSubplot:xlabel='dept', ylabel='perc'>"
      ]
     },
     "execution_count": 23,
     "metadata": {},
     "output_type": "execute_result"
    },
    {
     "data": {
      "image/png": "[encoded data removed]",
      "text/plain": [
       "<Figure size 864x360 with 1 Axes>"
      ]
     },
     "metadata": {
      "needs_background": "light"
     },
     "output_type": "display_data"
    }
   ],
   "source": [
    "# Write code here to draw the plot\n",
    "plt.figure(figsize=(12,5))\n",
    "sns.barplot(x='dept',y='perc', data=df_dept[df_dept['left']==1],color='b')"
   ]
  },
  {
   "cell_type": "markdown",
   "id": "be078844",
   "metadata": {
    "papermill": {
     "duration": 0.036075,
     "end_time": "2022-09-19T05:33:15.110156",
     "exception": false,
     "start_time": "2022-09-19T05:33:15.074081",
     "status": "completed"
    },
    "tags": []
   },
   "source": [
    "Answer: The plot above is showing that mostly people from HR are leaving the company"
   ]
  },
  {
   "cell_type": "markdown",
   "id": "cef800c7",
   "metadata": {
    "papermill": {
     "duration": 0.037398,
     "end_time": "2022-09-19T05:33:15.184302",
     "exception": false,
     "start_time": "2022-09-19T05:33:15.146904",
     "status": "completed"
    },
    "tags": []
   },
   "source": [
    "## **Satisfaction Level**"
   ]
  },
  {
   "cell_type": "markdown",
   "id": "be46bb1c",
   "metadata": {
    "papermill": {
     "duration": 0.03655,
     "end_time": "2022-09-19T05:33:15.257482",
     "exception": false,
     "start_time": "2022-09-19T05:33:15.220932",
     "status": "completed"
    },
    "tags": []
   },
   "source": [
    "**Task 11: Show the satisfaction level of employees who left the company and those who didn't leave, using a kde plot**"
   ]
  },
  {
   "cell_type": "code",
   "execution_count": 24,
   "id": "1fa4df94",
   "metadata": {
    "execution": {
     "iopub.execute_input": "2022-09-19T05:33:15.333255Z",
     "iopub.status.busy": "2022-09-19T05:33:15.332561Z",
     "iopub.status.idle": "2022-09-19T05:33:15.344622Z",
     "shell.execute_reply": "2022-09-19T05:33:15.343775Z"
    },
    "papermill": {
     "duration": 0.052392,
     "end_time": "2022-09-19T05:33:15.346845",
     "exception": false,
     "start_time": "2022-09-19T05:33:15.294453",
     "status": "completed"
    },
    "scrolled": true,
    "tags": []
   },
   "outputs": [
    {
     "data": {
      "text/html": [
       "<div>\n",
       "<style scoped>\n",
       "    .dataframe tbody tr th:only-of-type {\n",
       "        vertical-align: middle;\n",
       "    }\n",
       "\n",
       "    .dataframe tbody tr th {\n",
       "        vertical-align: top;\n",
       "    }\n",
       "\n",
       "    .dataframe thead th {\n",
       "        text-align: right;\n",
       "    }\n",
       "</style>\n",
       "<table border=\"1\" class=\"dataframe\">\n",
       "  <thead>\n",
       "    <tr style=\"text-align: right;\">\n",
       "      <th></th>\n",
       "      <th>satisfaction_level</th>\n",
       "    </tr>\n",
       "  </thead>\n",
       "  <tbody>\n",
       "    <tr>\n",
       "      <th>0</th>\n",
       "      <td>0.38</td>\n",
       "    </tr>\n",
       "    <tr>\n",
       "      <th>1</th>\n",
       "      <td>0.80</td>\n",
       "    </tr>\n",
       "    <tr>\n",
       "      <th>2</th>\n",
       "      <td>0.11</td>\n",
       "    </tr>\n",
       "    <tr>\n",
       "      <th>3</th>\n",
       "      <td>0.72</td>\n",
       "    </tr>\n",
       "    <tr>\n",
       "      <th>4</th>\n",
       "      <td>0.37</td>\n",
       "    </tr>\n",
       "    <tr>\n",
       "      <th>...</th>\n",
       "      <td>...</td>\n",
       "    </tr>\n",
       "    <tr>\n",
       "      <th>14994</th>\n",
       "      <td>0.40</td>\n",
       "    </tr>\n",
       "    <tr>\n",
       "      <th>14995</th>\n",
       "      <td>0.37</td>\n",
       "    </tr>\n",
       "    <tr>\n",
       "      <th>14996</th>\n",
       "      <td>0.37</td>\n",
       "    </tr>\n",
       "    <tr>\n",
       "      <th>14997</th>\n",
       "      <td>0.11</td>\n",
       "    </tr>\n",
       "    <tr>\n",
       "      <th>14998</th>\n",
       "      <td>0.37</td>\n",
       "    </tr>\n",
       "  </tbody>\n",
       "</table>\n",
       "<p>14999 rows × 1 columns</p>\n",
       "</div>"
      ],
      "text/plain": [
       "       satisfaction_level\n",
       "0                    0.38\n",
       "1                    0.80\n",
       "2                    0.11\n",
       "3                    0.72\n",
       "4                    0.37\n",
       "...                   ...\n",
       "14994                0.40\n",
       "14995                0.37\n",
       "14996                0.37\n",
       "14997                0.11\n",
       "14998                0.37\n",
       "\n",
       "[14999 rows x 1 columns]"
      ]
     },
     "execution_count": 24,
     "metadata": {},
     "output_type": "execute_result"
    }
   ],
   "source": [
    "# Write the code here\n",
    "df[['satisfaction_level']]"
   ]
  },
  {
   "cell_type": "code",
   "execution_count": 25,
   "id": "15cd3bcd",
   "metadata": {
    "execution": {
     "iopub.execute_input": "2022-09-19T05:33:15.424309Z",
     "iopub.status.busy": "2022-09-19T05:33:15.423888Z",
     "iopub.status.idle": "2022-09-19T05:33:15.805038Z",
     "shell.execute_reply": "2022-09-19T05:33:15.803661Z"
    },
    "papermill": {
     "duration": 0.423318,
     "end_time": "2022-09-19T05:33:15.807784",
     "exception": false,
     "start_time": "2022-09-19T05:33:15.384466",
     "status": "completed"
    },
    "tags": []
   },
   "outputs": [
    {
     "data": {
      "image/png": "[encoded data removed]",
      "text/plain": [
       "<Figure size 432x288 with 1 Axes>"
      ]
     },
     "metadata": {
      "needs_background": "light"
     },
     "output_type": "display_data"
    }
   ],
   "source": [
    "sns.kdeplot(df[df['left'] == 0]['satisfaction_level'], shade=True,label=\"Not Left\");\n",
    "sns.kdeplot(df[df['left'] == 1]['satisfaction_level'], shade=True,label=\"Left\");"
   ]
  },
  {
   "cell_type": "markdown",
   "id": "3a81b4e5",
   "metadata": {
    "papermill": {
     "duration": 0.038605,
     "end_time": "2022-09-19T05:33:15.885565",
     "exception": false,
     "start_time": "2022-09-19T05:33:15.846960",
     "status": "completed"
    },
    "tags": []
   },
   "source": [
    "**Question: What can you conclude from the plot above?**"
   ]
  },
  {
   "cell_type": "markdown",
   "id": "3a8fb102",
   "metadata": {
    "papermill": {
     "duration": 0.037654,
     "end_time": "2022-09-19T05:33:15.962414",
     "exception": false,
     "start_time": "2022-09-19T05:33:15.924760",
     "status": "completed"
    },
    "tags": []
   },
   "source": [
    "Answer:Mostly employees who are leaving have a satisfaction below 0.5. The employees staying in the company have a better satisfaction level."
   ]
  },
  {
   "cell_type": "markdown",
   "id": "18b36763",
   "metadata": {
    "papermill": {
     "duration": 0.038812,
     "end_time": "2022-09-19T05:33:16.039211",
     "exception": false,
     "start_time": "2022-09-19T05:33:16.000399",
     "status": "completed"
    },
    "tags": []
   },
   "source": [
    "# Feature Engineering"
   ]
  },
  {
   "cell_type": "markdown",
   "id": "d4be6dd8",
   "metadata": {
    "papermill": {
     "duration": 0.037844,
     "end_time": "2022-09-19T05:33:16.114682",
     "exception": false,
     "start_time": "2022-09-19T05:33:16.076838",
     "status": "completed"
    },
    "tags": []
   },
   "source": [
    "For feature engineering we will two new features. Looking at the the satisfcation we can conclude that people who are leaving have a low satisfaction level, most likely below 0.5 are leaving and people having a high satisfaction_level, most likely above 0.5 are likely to stay. "
   ]
  },
  {
   "cell_type": "markdown",
   "id": "1c7c484e",
   "metadata": {
    "papermill": {
     "duration": 0.038447,
     "end_time": "2022-09-19T05:33:16.191011",
     "exception": false,
     "start_time": "2022-09-19T05:33:16.152564",
     "status": "completed"
    },
    "tags": []
   },
   "source": [
    "**Task 12: Make a new feature 'satisfaction_level_type' through following conditions:**<br>\n",
    "- **satisfaction_level >= 0.5 then satisfaction_level_type = 'High'**\n",
    "- **satisfaction_level < 0.5 then satisfaction_level_type = 'Low'**"
   ]
  },
  {
   "cell_type": "code",
   "execution_count": 26,
   "id": "d0c65f2f",
   "metadata": {
    "execution": {
     "iopub.execute_input": "2022-09-19T05:33:16.268723Z",
     "iopub.status.busy": "2022-09-19T05:33:16.267958Z",
     "iopub.status.idle": "2022-09-19T05:33:16.273487Z",
     "shell.execute_reply": "2022-09-19T05:33:16.272226Z"
    },
    "papermill": {
     "duration": 0.04746,
     "end_time": "2022-09-19T05:33:16.276189",
     "exception": false,
     "start_time": "2022-09-19T05:33:16.228729",
     "status": "completed"
    },
    "tags": []
   },
   "outputs": [],
   "source": [
    "# Write the code here to make bins as mentioned above\n",
    "df['satisfaction_level_type'] = ''"
   ]
  },
  {
   "cell_type": "code",
   "execution_count": 27,
   "id": "6f9f134b",
   "metadata": {
    "execution": {
     "iopub.execute_input": "2022-09-19T05:33:16.353373Z",
     "iopub.status.busy": "2022-09-19T05:33:16.352960Z",
     "iopub.status.idle": "2022-09-19T05:33:16.366886Z",
     "shell.execute_reply": "2022-09-19T05:33:16.365624Z"
    },
    "papermill": {
     "duration": 0.056084,
     "end_time": "2022-09-19T05:33:16.369777",
     "exception": false,
     "start_time": "2022-09-19T05:33:16.313693",
     "status": "completed"
    },
    "tags": []
   },
   "outputs": [],
   "source": [
    "df.loc[df['satisfaction_level']>=0.5, 'satisfaction_level_type']= df.loc[df['satisfaction_level']>=0.5, 'satisfaction_level_type'].replace('','High')\n",
    "df.loc[df['satisfaction_level']<0.5, 'satisfaction_level_type']=df.loc[df['satisfaction_level']<0.5, 'satisfaction_level_type'].replace('','Low')"
   ]
  },
  {
   "cell_type": "markdown",
   "id": "deb6100b",
   "metadata": {
    "papermill": {
     "duration": 0.038289,
     "end_time": "2022-09-19T05:33:16.446378",
     "exception": false,
     "start_time": "2022-09-19T05:33:16.408089",
     "status": "completed"
    },
    "tags": []
   },
   "source": [
    "**Task 13: Make a count plot for satisfaction_level_type and and see which type has more turn over using hue='left'**"
   ]
  },
  {
   "cell_type": "code",
   "execution_count": 28,
   "id": "83a2de87",
   "metadata": {
    "execution": {
     "iopub.execute_input": "2022-09-19T05:33:16.530484Z",
     "iopub.status.busy": "2022-09-19T05:33:16.530026Z",
     "iopub.status.idle": "2022-09-19T05:33:16.779913Z",
     "shell.execute_reply": "2022-09-19T05:33:16.778461Z"
    },
    "papermill": {
     "duration": 0.296478,
     "end_time": "2022-09-19T05:33:16.782541",
     "exception": false,
     "start_time": "2022-09-19T05:33:16.486063",
     "status": "completed"
    },
    "tags": []
   },
   "outputs": [
    {
     "data": {
      "text/plain": [
       "<AxesSubplot:xlabel='satisfaction_level_type', ylabel='count'>"
      ]
     },
     "execution_count": 28,
     "metadata": {},
     "output_type": "execute_result"
    },
    {
     "data": {
      "image/png": "[encoded data removed]",
      "text/plain": [
       "<Figure size 432x288 with 1 Axes>"
      ]
     },
     "metadata": {
      "needs_background": "light"
     },
     "output_type": "display_data"
    }
   ],
   "source": [
    "# Write Code Here\n",
    "sns.countplot(x='satisfaction_level_type',data=df, hue='left')"
   ]
  },
  {
   "cell_type": "markdown",
   "id": "26518ee4",
   "metadata": {
    "papermill": {
     "duration": 0.040525,
     "end_time": "2022-09-19T05:33:16.863044",
     "exception": false,
     "start_time": "2022-09-19T05:33:16.822519",
     "status": "completed"
    },
    "tags": []
   },
   "source": [
    "Previously we saw that employees having high number of projects are leaving. We also saw that some employees with extremely less number of projects are also leaving the company. Let us see how number of projects and satisfaction level are related.<br>\n",
    "We can see this by checking the satisfaction level type and number of projects in according to that specific type. "
   ]
  },
  {
   "cell_type": "markdown",
   "id": "f51b63aa",
   "metadata": {
    "papermill": {
     "duration": 0.03793,
     "end_time": "2022-09-19T05:33:16.939224",
     "exception": false,
     "start_time": "2022-09-19T05:33:16.901294",
     "status": "completed"
    },
    "tags": []
   },
   "source": [
    "**Make a Plot of your findings**"
   ]
  },
  {
   "cell_type": "code",
   "execution_count": 29,
   "id": "050d9276",
   "metadata": {
    "execution": {
     "iopub.execute_input": "2022-09-19T05:33:17.018435Z",
     "iopub.status.busy": "2022-09-19T05:33:17.018035Z",
     "iopub.status.idle": "2022-09-19T05:33:17.279684Z",
     "shell.execute_reply": "2022-09-19T05:33:17.278398Z"
    },
    "papermill": {
     "duration": 0.304953,
     "end_time": "2022-09-19T05:33:17.282272",
     "exception": false,
     "start_time": "2022-09-19T05:33:16.977319",
     "status": "completed"
    },
    "tags": []
   },
   "outputs": [
    {
     "data": {
      "text/plain": [
       "<AxesSubplot:xlabel='index', ylabel='projectCount'>"
      ]
     },
     "execution_count": 29,
     "metadata": {},
     "output_type": "execute_result"
    },
    {
     "data": {
      "image/png": "[encoded data removed]",
      "text/plain": [
       "<Figure size 432x288 with 1 Axes>"
      ]
     },
     "metadata": {
      "needs_background": "light"
     },
     "output_type": "display_data"
    }
   ],
   "source": [
    "proj_count1= df.loc[df['satisfaction_level_type']=='High','number_project'].value_counts().reset_index(name='projectCount')\n",
    "sns.barplot(x='index',y='projectCount', data=proj_count1, color='b')"
   ]
  },
  {
   "cell_type": "markdown",
   "id": "18727919",
   "metadata": {
    "papermill": {
     "duration": 0.039372,
     "end_time": "2022-09-19T05:33:17.360718",
     "exception": false,
     "start_time": "2022-09-19T05:33:17.321346",
     "status": "completed"
    },
    "tags": []
   },
   "source": [
    "**Question:** What did you infer drom the above plot"
   ]
  },
  {
   "cell_type": "markdown",
   "id": "0c89ec40",
   "metadata": {
    "papermill": {
     "duration": 0.039695,
     "end_time": "2022-09-19T05:33:17.439299",
     "exception": false,
     "start_time": "2022-09-19T05:33:17.399604",
     "status": "completed"
    },
    "tags": []
   },
   "source": [
    "**Answer:**As you can see that higher satisfaction level is associated with the number of projects such that number of projects per employee are in the range of 3 to 5."
   ]
  },
  {
   "cell_type": "markdown",
   "id": "f7c3add4",
   "metadata": {
    "papermill": {
     "duration": 0.04714,
     "end_time": "2022-09-19T05:33:17.527830",
     "exception": false,
     "start_time": "2022-09-19T05:33:17.480690",
     "status": "completed"
    },
    "tags": []
   },
   "source": [
    "Now lets check number of projects for low satisfaction level"
   ]
  },
  {
   "cell_type": "code",
   "execution_count": 30,
   "id": "e0f0175e",
   "metadata": {
    "execution": {
     "iopub.execute_input": "2022-09-19T05:33:17.625618Z",
     "iopub.status.busy": "2022-09-19T05:33:17.625176Z",
     "iopub.status.idle": "2022-09-19T05:33:17.890201Z",
     "shell.execute_reply": "2022-09-19T05:33:17.889265Z"
    },
    "papermill": {
     "duration": 0.314538,
     "end_time": "2022-09-19T05:33:17.892555",
     "exception": false,
     "start_time": "2022-09-19T05:33:17.578017",
     "status": "completed"
    },
    "tags": []
   },
   "outputs": [
    {
     "data": {
      "text/plain": [
       "<AxesSubplot:xlabel='index', ylabel='projectCount'>"
      ]
     },
     "execution_count": 30,
     "metadata": {},
     "output_type": "execute_result"
    },
    {
     "data": {
      "image/png": "[encoded data removed]",
      "text/plain": [
       "<Figure size 432x288 with 1 Axes>"
      ]
     },
     "metadata": {
      "needs_background": "light"
     },
     "output_type": "display_data"
    }
   ],
   "source": [
    "# Write Code Here\n",
    "proj_count2= df.loc[df['satisfaction_level_type']=='Low','number_project'].value_counts().reset_index(name='projectCount')\n",
    "sns.barplot(x='index',y='projectCount', data=proj_count2, color='b')"
   ]
  },
  {
   "cell_type": "markdown",
   "id": "4a936ee5",
   "metadata": {
    "papermill": {
     "duration": 0.040229,
     "end_time": "2022-09-19T05:33:17.971975",
     "exception": false,
     "start_time": "2022-09-19T05:33:17.931746",
     "status": "completed"
    },
    "tags": []
   },
   "source": [
    "Notice that there is are people associated with low satisfaction level, have either too less projects, i.e. number of projects = 2 or high number of projects i.e. 6 or even 7. The over all count for 7 is low but there is a significant raise if we compare its count with higher satisfaction level."
   ]
  },
  {
   "cell_type": "markdown",
   "id": "59ac515f",
   "metadata": {
    "papermill": {
     "duration": 0.040261,
     "end_time": "2022-09-19T05:33:18.051537",
     "exception": false,
     "start_time": "2022-09-19T05:33:18.011276",
     "status": "completed"
    },
    "tags": []
   },
   "source": [
    "**Task 14: Make a new column 'employee_type' and assign categories as following:**<br>\n",
    "- **If number of projects is equal to 2 then employee_type='unburdened'**\n",
    "- **If number of projects is between 3 and 5 then employee_type = 'Satisfactory'**\n",
    "- **If number of projects is 6 and above then employee_type='Burdened'**"
   ]
  },
  {
   "cell_type": "code",
   "execution_count": 31,
   "id": "259ae143",
   "metadata": {
    "execution": {
     "iopub.execute_input": "2022-09-19T05:33:18.132260Z",
     "iopub.status.busy": "2022-09-19T05:33:18.131387Z",
     "iopub.status.idle": "2022-09-19T05:33:18.136697Z",
     "shell.execute_reply": "2022-09-19T05:33:18.135816Z"
    },
    "papermill": {
     "duration": 0.0479,
     "end_time": "2022-09-19T05:33:18.139127",
     "exception": false,
     "start_time": "2022-09-19T05:33:18.091227",
     "status": "completed"
    },
    "tags": []
   },
   "outputs": [],
   "source": [
    "df['employee_type']=''"
   ]
  },
  {
   "cell_type": "code",
   "execution_count": 32,
   "id": "0b303136",
   "metadata": {
    "execution": {
     "iopub.execute_input": "2022-09-19T05:33:18.220966Z",
     "iopub.status.busy": "2022-09-19T05:33:18.220169Z",
     "iopub.status.idle": "2022-09-19T05:33:18.236334Z",
     "shell.execute_reply": "2022-09-19T05:33:18.234961Z"
    },
    "papermill": {
     "duration": 0.059827,
     "end_time": "2022-09-19T05:33:18.238899",
     "exception": false,
     "start_time": "2022-09-19T05:33:18.179072",
     "status": "completed"
    },
    "tags": []
   },
   "outputs": [],
   "source": [
    "# Write code here\n",
    "df.loc[df['number_project']==2,'employee_type']=df.loc[df['number_project']==2,'employee_type'].replace('','unburdened')\n",
    "df.loc[(df['number_project']>=3) & (df['number_project']<=5),'employee_type']=df.loc[(df['number_project']>=3) & (df['number_project']<=5),'employee_type'].replace('','Satisfactory')\n",
    "df.loc[df['number_project']>=6,'employee_type']=df.loc[df['number_project']>=6,'employee_type'].replace('','Burdened')\n"
   ]
  },
  {
   "cell_type": "markdown",
   "id": "adfa50d4",
   "metadata": {
    "papermill": {
     "duration": 0.038566,
     "end_time": "2022-09-19T05:33:18.316838",
     "exception": false,
     "start_time": "2022-09-19T05:33:18.278272",
     "status": "completed"
    },
    "tags": []
   },
   "source": [
    "**Task 15: Make a countplot to see which type of employee is leaving**"
   ]
  },
  {
   "cell_type": "code",
   "execution_count": 33,
   "id": "d9a699e4",
   "metadata": {
    "execution": {
     "iopub.execute_input": "2022-09-19T05:33:18.397493Z",
     "iopub.status.busy": "2022-09-19T05:33:18.396644Z",
     "iopub.status.idle": "2022-09-19T05:33:18.660722Z",
     "shell.execute_reply": "2022-09-19T05:33:18.659704Z"
    },
    "papermill": {
     "duration": 0.306936,
     "end_time": "2022-09-19T05:33:18.663061",
     "exception": false,
     "start_time": "2022-09-19T05:33:18.356125",
     "status": "completed"
    },
    "tags": []
   },
   "outputs": [
    {
     "data": {
      "text/plain": [
       "<AxesSubplot:xlabel='employee_type', ylabel='count'>"
      ]
     },
     "execution_count": 33,
     "metadata": {},
     "output_type": "execute_result"
    },
    {
     "data": {
      "image/png": "[encoded data removed]",
      "text/plain": [
       "<Figure size 432x288 with 1 Axes>"
      ]
     },
     "metadata": {
      "needs_background": "light"
     },
     "output_type": "display_data"
    }
   ],
   "source": [
    "# Write code here\n",
    "sns.countplot(x='employee_type',data=df,hue='left')"
   ]
  },
  {
   "cell_type": "markdown",
   "id": "c9b559a7",
   "metadata": {
    "papermill": {
     "duration": 0.040542,
     "end_time": "2022-09-19T05:33:18.743395",
     "exception": false,
     "start_time": "2022-09-19T05:33:18.702853",
     "status": "completed"
    },
    "tags": []
   },
   "source": [
    "### Remove Redundant Features"
   ]
  },
  {
   "cell_type": "markdown",
   "id": "7f7a5a7a",
   "metadata": {
    "papermill": {
     "duration": 0.039051,
     "end_time": "2022-09-19T05:33:18.822961",
     "exception": false,
     "start_time": "2022-09-19T05:33:18.783910",
     "status": "completed"
    },
    "tags": []
   },
   "source": [
    "Hint: Look for the columns used in Feature Engineering"
   ]
  },
  {
   "cell_type": "code",
   "execution_count": 34,
   "id": "9bc1ad0b",
   "metadata": {
    "execution": {
     "iopub.execute_input": "2022-09-19T05:33:18.907348Z",
     "iopub.status.busy": "2022-09-19T05:33:18.906694Z",
     "iopub.status.idle": "2022-09-19T05:33:18.918683Z",
     "shell.execute_reply": "2022-09-19T05:33:18.917610Z"
    },
    "papermill": {
     "duration": 0.057274,
     "end_time": "2022-09-19T05:33:18.921172",
     "exception": false,
     "start_time": "2022-09-19T05:33:18.863898",
     "status": "completed"
    },
    "tags": []
   },
   "outputs": [],
   "source": [
    "# Write code here\n",
    "df_proj_st=df.groupby('employee_type')['left'].value_counts(normalize=True).reset_index(name='perc')\n",
    "df_proj_st['perc']=df_proj_st['perc']*100"
   ]
  },
  {
   "cell_type": "code",
   "execution_count": 35,
   "id": "4ac9b893",
   "metadata": {
    "execution": {
     "iopub.execute_input": "2022-09-19T05:33:19.004965Z",
     "iopub.status.busy": "2022-09-19T05:33:19.004252Z",
     "iopub.status.idle": "2022-09-19T05:33:19.232686Z",
     "shell.execute_reply": "2022-09-19T05:33:19.231474Z"
    },
    "papermill": {
     "duration": 0.274718,
     "end_time": "2022-09-19T05:33:19.235618",
     "exception": false,
     "start_time": "2022-09-19T05:33:18.960900",
     "status": "completed"
    },
    "tags": []
   },
   "outputs": [
    {
     "data": {
      "text/plain": [
       "<AxesSubplot:xlabel='employee_type', ylabel='perc'>"
      ]
     },
     "execution_count": 35,
     "metadata": {},
     "output_type": "execute_result"
    },
    {
     "data": {
      "image/png": "[encoded data removed]",
      "text/plain": [
       "<Figure size 432x288 with 1 Axes>"
      ]
     },
     "metadata": {
      "needs_background": "light"
     },
     "output_type": "display_data"
    }
   ],
   "source": [
    "sns.barplot(x='employee_type',y='perc',data=df_proj_st[df_proj_st['left']==1],color='b')"
   ]
  },
  {
   "cell_type": "markdown",
   "id": "81a335b5",
   "metadata": {
    "papermill": {
     "duration": 0.039877,
     "end_time": "2022-09-19T05:33:19.316222",
     "exception": false,
     "start_time": "2022-09-19T05:33:19.276345",
     "status": "completed"
    },
    "tags": []
   },
   "source": [
    "# Machine Learning"
   ]
  },
  {
   "cell_type": "markdown",
   "id": "2a85c261",
   "metadata": {
    "papermill": {
     "duration": 0.041162,
     "end_time": "2022-09-19T05:33:19.397556",
     "exception": false,
     "start_time": "2022-09-19T05:33:19.356394",
     "status": "completed"
    },
    "tags": []
   },
   "source": [
    "Before moving further, we need to apply one-hot encoding on categorical variables i.e. **dept, salary, satisfaction_level_type,** and **employee_type**"
   ]
  },
  {
   "cell_type": "markdown",
   "id": "11a8e695",
   "metadata": {
    "papermill": {
     "duration": 0.041767,
     "end_time": "2022-09-19T05:33:19.479388",
     "exception": false,
     "start_time": "2022-09-19T05:33:19.437621",
     "status": "completed"
    },
    "tags": []
   },
   "source": [
    "**Task 16: Do ONE HOT ENCODING of the above mentioned variables**"
   ]
  },
  {
   "cell_type": "code",
   "execution_count": 36,
   "id": "3079c137",
   "metadata": {
    "execution": {
     "iopub.execute_input": "2022-09-19T05:33:19.563543Z",
     "iopub.status.busy": "2022-09-19T05:33:19.562953Z",
     "iopub.status.idle": "2022-09-19T05:33:19.569691Z",
     "shell.execute_reply": "2022-09-19T05:33:19.568731Z"
    },
    "papermill": {
     "duration": 0.05078,
     "end_time": "2022-09-19T05:33:19.571969",
     "exception": false,
     "start_time": "2022-09-19T05:33:19.521189",
     "status": "completed"
    },
    "tags": []
   },
   "outputs": [
    {
     "data": {
      "text/plain": [
       "Index(['satisfaction_level', 'last_evaluation', 'number_project',\n",
       "       'average_montly_hours', 'time_spend_company', 'Work_accident', 'left',\n",
       "       'promotion_last_5years', 'dept', 'salary', 'satisfaction_level_type',\n",
       "       'employee_type'],\n",
       "      dtype='object')"
      ]
     },
     "execution_count": 36,
     "metadata": {},
     "output_type": "execute_result"
    }
   ],
   "source": [
    "# Write code here\n",
    "df.columns"
   ]
  },
  {
   "cell_type": "code",
   "execution_count": 37,
   "id": "5395e20b",
   "metadata": {
    "execution": {
     "iopub.execute_input": "2022-09-19T05:33:19.655218Z",
     "iopub.status.busy": "2022-09-19T05:33:19.654796Z",
     "iopub.status.idle": "2022-09-19T05:33:19.690957Z",
     "shell.execute_reply": "2022-09-19T05:33:19.690019Z"
    },
    "papermill": {
     "duration": 0.08091,
     "end_time": "2022-09-19T05:33:19.693269",
     "exception": false,
     "start_time": "2022-09-19T05:33:19.612359",
     "status": "completed"
    },
    "scrolled": true,
    "tags": []
   },
   "outputs": [
    {
     "data": {
      "text/html": [
       "<div>\n",
       "<style scoped>\n",
       "    .dataframe tbody tr th:only-of-type {\n",
       "        vertical-align: middle;\n",
       "    }\n",
       "\n",
       "    .dataframe tbody tr th {\n",
       "        vertical-align: top;\n",
       "    }\n",
       "\n",
       "    .dataframe thead th {\n",
       "        text-align: right;\n",
       "    }\n",
       "</style>\n",
       "<table border=\"1\" class=\"dataframe\">\n",
       "  <thead>\n",
       "    <tr style=\"text-align: right;\">\n",
       "      <th></th>\n",
       "      <th>satisfaction_level</th>\n",
       "      <th>last_evaluation</th>\n",
       "      <th>number_project</th>\n",
       "      <th>average_montly_hours</th>\n",
       "      <th>time_spend_company</th>\n",
       "      <th>Work_accident</th>\n",
       "      <th>left</th>\n",
       "      <th>promotion_last_5years</th>\n",
       "      <th>dept_IT</th>\n",
       "      <th>dept_RandD</th>\n",
       "      <th>...</th>\n",
       "      <th>dept_support</th>\n",
       "      <th>dept_technical</th>\n",
       "      <th>salary_high</th>\n",
       "      <th>salary_low</th>\n",
       "      <th>salary_medium</th>\n",
       "      <th>satisfaction_level_type_High</th>\n",
       "      <th>satisfaction_level_type_Low</th>\n",
       "      <th>employee_type_Burdened</th>\n",
       "      <th>employee_type_Satisfactory</th>\n",
       "      <th>employee_type_unburdened</th>\n",
       "    </tr>\n",
       "  </thead>\n",
       "  <tbody>\n",
       "    <tr>\n",
       "      <th>0</th>\n",
       "      <td>0.38</td>\n",
       "      <td>0.53</td>\n",
       "      <td>2</td>\n",
       "      <td>157</td>\n",
       "      <td>3</td>\n",
       "      <td>0</td>\n",
       "      <td>1</td>\n",
       "      <td>0</td>\n",
       "      <td>0</td>\n",
       "      <td>0</td>\n",
       "      <td>...</td>\n",
       "      <td>0</td>\n",
       "      <td>0</td>\n",
       "      <td>0</td>\n",
       "      <td>1</td>\n",
       "      <td>0</td>\n",
       "      <td>0</td>\n",
       "      <td>1</td>\n",
       "      <td>0</td>\n",
       "      <td>0</td>\n",
       "      <td>1</td>\n",
       "    </tr>\n",
       "    <tr>\n",
       "      <th>1</th>\n",
       "      <td>0.80</td>\n",
       "      <td>0.86</td>\n",
       "      <td>5</td>\n",
       "      <td>262</td>\n",
       "      <td>6</td>\n",
       "      <td>0</td>\n",
       "      <td>1</td>\n",
       "      <td>0</td>\n",
       "      <td>0</td>\n",
       "      <td>0</td>\n",
       "      <td>...</td>\n",
       "      <td>0</td>\n",
       "      <td>0</td>\n",
       "      <td>0</td>\n",
       "      <td>0</td>\n",
       "      <td>1</td>\n",
       "      <td>1</td>\n",
       "      <td>0</td>\n",
       "      <td>0</td>\n",
       "      <td>1</td>\n",
       "      <td>0</td>\n",
       "    </tr>\n",
       "    <tr>\n",
       "      <th>2</th>\n",
       "      <td>0.11</td>\n",
       "      <td>0.88</td>\n",
       "      <td>7</td>\n",
       "      <td>272</td>\n",
       "      <td>4</td>\n",
       "      <td>0</td>\n",
       "      <td>1</td>\n",
       "      <td>0</td>\n",
       "      <td>0</td>\n",
       "      <td>0</td>\n",
       "      <td>...</td>\n",
       "      <td>0</td>\n",
       "      <td>0</td>\n",
       "      <td>0</td>\n",
       "      <td>0</td>\n",
       "      <td>1</td>\n",
       "      <td>0</td>\n",
       "      <td>1</td>\n",
       "      <td>1</td>\n",
       "      <td>0</td>\n",
       "      <td>0</td>\n",
       "    </tr>\n",
       "    <tr>\n",
       "      <th>3</th>\n",
       "      <td>0.72</td>\n",
       "      <td>0.87</td>\n",
       "      <td>5</td>\n",
       "      <td>223</td>\n",
       "      <td>5</td>\n",
       "      <td>0</td>\n",
       "      <td>1</td>\n",
       "      <td>0</td>\n",
       "      <td>0</td>\n",
       "      <td>0</td>\n",
       "      <td>...</td>\n",
       "      <td>0</td>\n",
       "      <td>0</td>\n",
       "      <td>0</td>\n",
       "      <td>1</td>\n",
       "      <td>0</td>\n",
       "      <td>1</td>\n",
       "      <td>0</td>\n",
       "      <td>0</td>\n",
       "      <td>1</td>\n",
       "      <td>0</td>\n",
       "    </tr>\n",
       "    <tr>\n",
       "      <th>4</th>\n",
       "      <td>0.37</td>\n",
       "      <td>0.52</td>\n",
       "      <td>2</td>\n",
       "      <td>159</td>\n",
       "      <td>3</td>\n",
       "      <td>0</td>\n",
       "      <td>1</td>\n",
       "      <td>0</td>\n",
       "      <td>0</td>\n",
       "      <td>0</td>\n",
       "      <td>...</td>\n",
       "      <td>0</td>\n",
       "      <td>0</td>\n",
       "      <td>0</td>\n",
       "      <td>1</td>\n",
       "      <td>0</td>\n",
       "      <td>0</td>\n",
       "      <td>1</td>\n",
       "      <td>0</td>\n",
       "      <td>0</td>\n",
       "      <td>1</td>\n",
       "    </tr>\n",
       "  </tbody>\n",
       "</table>\n",
       "<p>5 rows × 26 columns</p>\n",
       "</div>"
      ],
      "text/plain": [
       "   satisfaction_level  last_evaluation  number_project  average_montly_hours  \\\n",
       "0                0.38             0.53               2                   157   \n",
       "1                0.80             0.86               5                   262   \n",
       "2                0.11             0.88               7                   272   \n",
       "3                0.72             0.87               5                   223   \n",
       "4                0.37             0.52               2                   159   \n",
       "\n",
       "   time_spend_company  Work_accident  left  promotion_last_5years  dept_IT  \\\n",
       "0                   3              0     1                      0        0   \n",
       "1                   6              0     1                      0        0   \n",
       "2                   4              0     1                      0        0   \n",
       "3                   5              0     1                      0        0   \n",
       "4                   3              0     1                      0        0   \n",
       "\n",
       "   dept_RandD  ...  dept_support  dept_technical  salary_high  salary_low  \\\n",
       "0           0  ...             0               0            0           1   \n",
       "1           0  ...             0               0            0           0   \n",
       "2           0  ...             0               0            0           0   \n",
       "3           0  ...             0               0            0           1   \n",
       "4           0  ...             0               0            0           1   \n",
       "\n",
       "   salary_medium  satisfaction_level_type_High  satisfaction_level_type_Low  \\\n",
       "0              0                             0                            1   \n",
       "1              1                             1                            0   \n",
       "2              1                             0                            1   \n",
       "3              0                             1                            0   \n",
       "4              0                             0                            1   \n",
       "\n",
       "   employee_type_Burdened  employee_type_Satisfactory  \\\n",
       "0                       0                           0   \n",
       "1                       0                           1   \n",
       "2                       1                           0   \n",
       "3                       0                           1   \n",
       "4                       0                           0   \n",
       "\n",
       "   employee_type_unburdened  \n",
       "0                         1  \n",
       "1                         0  \n",
       "2                         0  \n",
       "3                         0  \n",
       "4                         1  \n",
       "\n",
       "[5 rows x 26 columns]"
      ]
     },
     "execution_count": 37,
     "metadata": {},
     "output_type": "execute_result"
    }
   ],
   "source": [
    "df_onehot=pd.get_dummies(df,columns=['dept','salary','satisfaction_level_type','employee_type'])\n",
    "df_onehot.head()"
   ]
  },
  {
   "cell_type": "code",
   "execution_count": 38,
   "id": "a573fef3",
   "metadata": {
    "execution": {
     "iopub.execute_input": "2022-09-19T05:33:19.778329Z",
     "iopub.status.busy": "2022-09-19T05:33:19.777324Z",
     "iopub.status.idle": "2022-09-19T05:33:19.784040Z",
     "shell.execute_reply": "2022-09-19T05:33:19.782686Z"
    },
    "papermill": {
     "duration": 0.051928,
     "end_time": "2022-09-19T05:33:19.787253",
     "exception": false,
     "start_time": "2022-09-19T05:33:19.735325",
     "status": "completed"
    },
    "tags": []
   },
   "outputs": [],
   "source": [
    "df=df_onehot.copy()"
   ]
  },
  {
   "cell_type": "markdown",
   "id": "49a3dad6",
   "metadata": {
    "papermill": {
     "duration": 0.041182,
     "end_time": "2022-09-19T05:33:19.871346",
     "exception": false,
     "start_time": "2022-09-19T05:33:19.830164",
     "status": "completed"
    },
    "tags": []
   },
   "source": [
    "**Task 17: Creating Independant and Dependant Variables**"
   ]
  },
  {
   "cell_type": "code",
   "execution_count": 39,
   "id": "3e45e930",
   "metadata": {
    "execution": {
     "iopub.execute_input": "2022-09-19T05:33:19.956436Z",
     "iopub.status.busy": "2022-09-19T05:33:19.955810Z",
     "iopub.status.idle": "2022-09-19T05:33:19.962460Z",
     "shell.execute_reply": "2022-09-19T05:33:19.961460Z"
    },
    "papermill": {
     "duration": 0.052335,
     "end_time": "2022-09-19T05:33:19.965183",
     "exception": false,
     "start_time": "2022-09-19T05:33:19.912848",
     "status": "completed"
    },
    "tags": []
   },
   "outputs": [],
   "source": [
    "# Write code here\n",
    "X=df.drop('left', axis=1)\n",
    "Y=df['left']"
   ]
  },
  {
   "cell_type": "markdown",
   "id": "5ffd6fce",
   "metadata": {
    "papermill": {
     "duration": 0.042422,
     "end_time": "2022-09-19T05:33:20.051840",
     "exception": false,
     "start_time": "2022-09-19T05:33:20.009418",
     "status": "completed"
    },
    "tags": []
   },
   "source": [
    "**Task 18: Perform Train Test Split with test size 30 percent and random state = 100**"
   ]
  },
  {
   "cell_type": "code",
   "execution_count": 40,
   "id": "05507df5",
   "metadata": {
    "execution": {
     "iopub.execute_input": "2022-09-19T05:33:20.137938Z",
     "iopub.status.busy": "2022-09-19T05:33:20.137478Z",
     "iopub.status.idle": "2022-09-19T05:33:20.502199Z",
     "shell.execute_reply": "2022-09-19T05:33:20.500507Z"
    },
    "papermill": {
     "duration": 0.411174,
     "end_time": "2022-09-19T05:33:20.505218",
     "exception": false,
     "start_time": "2022-09-19T05:33:20.094044",
     "status": "completed"
    },
    "tags": []
   },
   "outputs": [],
   "source": [
    "from sklearn.model_selection import train_test_split"
   ]
  },
  {
   "cell_type": "code",
   "execution_count": 41,
   "id": "7dd3ee22",
   "metadata": {
    "execution": {
     "iopub.execute_input": "2022-09-19T05:33:20.594938Z",
     "iopub.status.busy": "2022-09-19T05:33:20.594426Z",
     "iopub.status.idle": "2022-09-19T05:33:20.607876Z",
     "shell.execute_reply": "2022-09-19T05:33:20.606554Z"
    },
    "papermill": {
     "duration": 0.061735,
     "end_time": "2022-09-19T05:33:20.611106",
     "exception": false,
     "start_time": "2022-09-19T05:33:20.549371",
     "status": "completed"
    },
    "tags": []
   },
   "outputs": [
    {
     "name": "stdout",
     "output_type": "stream",
     "text": [
      "(10499, 25) (10499,)\n",
      "(4500, 25) (4500,)\n"
     ]
    }
   ],
   "source": [
    "#Write code here\n",
    "xtrain, xtest, ytrain, ytest= train_test_split(X,Y, test_size=0.3, random_state=100)\n",
    "print(xtrain.shape, ytrain.shape)\n",
    "print(xtest.shape,ytest.shape)\n"
   ]
  },
  {
   "cell_type": "code",
   "execution_count": 42,
   "id": "eeba57ae",
   "metadata": {
    "execution": {
     "iopub.execute_input": "2022-09-19T05:33:20.696441Z",
     "iopub.status.busy": "2022-09-19T05:33:20.695577Z",
     "iopub.status.idle": "2022-09-19T05:33:20.702269Z",
     "shell.execute_reply": "2022-09-19T05:33:20.700534Z"
    },
    "papermill": {
     "duration": 0.051844,
     "end_time": "2022-09-19T05:33:20.705030",
     "exception": false,
     "start_time": "2022-09-19T05:33:20.653186",
     "status": "completed"
    },
    "tags": []
   },
   "outputs": [
    {
     "name": "stdout",
     "output_type": "stream",
     "text": [
      "(10499, 25) (10499,)\n",
      "(4500, 25) (4500,)\n"
     ]
    }
   ],
   "source": [
    "print(xtrain.shape, ytrain.shape)\n",
    "print(xtest.shape,ytest.shape)"
   ]
  },
  {
   "cell_type": "markdown",
   "id": "b040c654",
   "metadata": {
    "papermill": {
     "duration": 0.040559,
     "end_time": "2022-09-19T05:33:20.786669",
     "exception": false,
     "start_time": "2022-09-19T05:33:20.746110",
     "status": "completed"
    },
    "tags": []
   },
   "source": [
    "**Task 19: Get the predictions using the following models.**<br>\n",
    "- Random Forest\n",
    "- Logistic Regression\n",
    "- Ada Boost\n",
    "- XG Boost\n",
    "\n",
    "<br> \n",
    "\n",
    "**Also get the following scores for each of the above models**\n",
    "- Accuracy\n",
    "- Precision\n",
    "- Recall\n",
    "- F1-Score\n",
    "- Classification Report"
   ]
  },
  {
   "cell_type": "markdown",
   "id": "deebda79",
   "metadata": {
    "papermill": {
     "duration": 0.041201,
     "end_time": "2022-09-19T05:33:20.869117",
     "exception": false,
     "start_time": "2022-09-19T05:33:20.827916",
     "status": "completed"
    },
    "tags": []
   },
   "source": [
    "## Random Forest"
   ]
  },
  {
   "cell_type": "code",
   "execution_count": 43,
   "id": "c80e976b",
   "metadata": {
    "execution": {
     "iopub.execute_input": "2022-09-19T05:33:20.956262Z",
     "iopub.status.busy": "2022-09-19T05:33:20.955498Z",
     "iopub.status.idle": "2022-09-19T05:33:21.209555Z",
     "shell.execute_reply": "2022-09-19T05:33:21.208265Z"
    },
    "papermill": {
     "duration": 0.30075,
     "end_time": "2022-09-19T05:33:21.212589",
     "exception": false,
     "start_time": "2022-09-19T05:33:20.911839",
     "status": "completed"
    },
    "tags": []
   },
   "outputs": [],
   "source": [
    "# Importing the model from sklearn\n",
    "from sklearn.ensemble import RandomForestClassifier"
   ]
  },
  {
   "cell_type": "code",
   "execution_count": 44,
   "id": "d77c8629",
   "metadata": {
    "execution": {
     "iopub.execute_input": "2022-09-19T05:33:21.297760Z",
     "iopub.status.busy": "2022-09-19T05:33:21.297313Z",
     "iopub.status.idle": "2022-09-19T05:33:21.302683Z",
     "shell.execute_reply": "2022-09-19T05:33:21.301508Z"
    },
    "papermill": {
     "duration": 0.050912,
     "end_time": "2022-09-19T05:33:21.305117",
     "exception": false,
     "start_time": "2022-09-19T05:33:21.254205",
     "status": "completed"
    },
    "tags": []
   },
   "outputs": [],
   "source": [
    "# Making instance and training the model\n",
    "rf_clf= RandomForestClassifier(random_state=100)"
   ]
  },
  {
   "cell_type": "code",
   "execution_count": 45,
   "id": "da924b42",
   "metadata": {
    "execution": {
     "iopub.execute_input": "2022-09-19T05:33:21.389826Z",
     "iopub.status.busy": "2022-09-19T05:33:21.389408Z",
     "iopub.status.idle": "2022-09-19T05:33:22.388592Z",
     "shell.execute_reply": "2022-09-19T05:33:22.387717Z"
    },
    "papermill": {
     "duration": 1.045,
     "end_time": "2022-09-19T05:33:22.391011",
     "exception": false,
     "start_time": "2022-09-19T05:33:21.346011",
     "status": "completed"
    },
    "tags": []
   },
   "outputs": [
    {
     "data": {
      "text/plain": [
       "RandomForestClassifier(random_state=100)"
      ]
     },
     "execution_count": 45,
     "metadata": {},
     "output_type": "execute_result"
    }
   ],
   "source": [
    "rf_clf.fit(xtrain,ytrain)"
   ]
  },
  {
   "cell_type": "code",
   "execution_count": 46,
   "id": "c50d9032",
   "metadata": {
    "execution": {
     "iopub.execute_input": "2022-09-19T05:33:22.480506Z",
     "iopub.status.busy": "2022-09-19T05:33:22.479320Z",
     "iopub.status.idle": "2022-09-19T05:33:22.663965Z",
     "shell.execute_reply": "2022-09-19T05:33:22.662988Z"
    },
    "papermill": {
     "duration": 0.234501,
     "end_time": "2022-09-19T05:33:22.667400",
     "exception": false,
     "start_time": "2022-09-19T05:33:22.432899",
     "status": "completed"
    },
    "tags": []
   },
   "outputs": [],
   "source": [
    "# Get predictions\n",
    "rf_pred=rf_clf.predict(xtest)\n",
    "rf_pred_prob=rf_clf.predict_proba(xtest)[:1]"
   ]
  },
  {
   "cell_type": "markdown",
   "id": "1068bdd4",
   "metadata": {
    "papermill": {
     "duration": 0.040917,
     "end_time": "2022-09-19T05:33:22.750296",
     "exception": false,
     "start_time": "2022-09-19T05:33:22.709379",
     "status": "completed"
    },
    "tags": []
   },
   "source": [
    "##### Confusion Matrix"
   ]
  },
  {
   "cell_type": "code",
   "execution_count": 47,
   "id": "ece1db24",
   "metadata": {
    "execution": {
     "iopub.execute_input": "2022-09-19T05:33:22.835176Z",
     "iopub.status.busy": "2022-09-19T05:33:22.834746Z",
     "iopub.status.idle": "2022-09-19T05:33:22.840135Z",
     "shell.execute_reply": "2022-09-19T05:33:22.839030Z"
    },
    "papermill": {
     "duration": 0.051033,
     "end_time": "2022-09-19T05:33:22.842448",
     "exception": false,
     "start_time": "2022-09-19T05:33:22.791415",
     "status": "completed"
    },
    "tags": []
   },
   "outputs": [],
   "source": [
    "from sklearn.metrics import confusion_matrix"
   ]
  },
  {
   "cell_type": "code",
   "execution_count": 48,
   "id": "b75a146f",
   "metadata": {
    "execution": {
     "iopub.execute_input": "2022-09-19T05:33:22.928250Z",
     "iopub.status.busy": "2022-09-19T05:33:22.927828Z",
     "iopub.status.idle": "2022-09-19T05:33:22.936731Z",
     "shell.execute_reply": "2022-09-19T05:33:22.935739Z"
    },
    "papermill": {
     "duration": 0.054651,
     "end_time": "2022-09-19T05:33:22.939226",
     "exception": false,
     "start_time": "2022-09-19T05:33:22.884575",
     "status": "completed"
    },
    "tags": []
   },
   "outputs": [],
   "source": [
    "tn, fp, fn, tp = confusion_matrix(ytest, rf_pred).ravel()"
   ]
  },
  {
   "cell_type": "code",
   "execution_count": 49,
   "id": "b3f3785c",
   "metadata": {
    "execution": {
     "iopub.execute_input": "2022-09-19T05:33:23.027084Z",
     "iopub.status.busy": "2022-09-19T05:33:23.026214Z",
     "iopub.status.idle": "2022-09-19T05:33:23.038295Z",
     "shell.execute_reply": "2022-09-19T05:33:23.037396Z"
    },
    "papermill": {
     "duration": 0.058316,
     "end_time": "2022-09-19T05:33:23.040620",
     "exception": false,
     "start_time": "2022-09-19T05:33:22.982304",
     "status": "completed"
    },
    "tags": []
   },
   "outputs": [
    {
     "data": {
      "text/html": [
       "<div>\n",
       "<style scoped>\n",
       "    .dataframe tbody tr th:only-of-type {\n",
       "        vertical-align: middle;\n",
       "    }\n",
       "\n",
       "    .dataframe tbody tr th {\n",
       "        vertical-align: top;\n",
       "    }\n",
       "\n",
       "    .dataframe thead th {\n",
       "        text-align: right;\n",
       "    }\n",
       "</style>\n",
       "<table border=\"1\" class=\"dataframe\">\n",
       "  <thead>\n",
       "    <tr style=\"text-align: right;\">\n",
       "      <th></th>\n",
       "      <th>pred_leave</th>\n",
       "      <th>pred_not-leave</th>\n",
       "    </tr>\n",
       "  </thead>\n",
       "  <tbody>\n",
       "    <tr>\n",
       "      <th>leave</th>\n",
       "      <td>1071</td>\n",
       "      <td>28</td>\n",
       "    </tr>\n",
       "    <tr>\n",
       "      <th>not-leave</th>\n",
       "      <td>9</td>\n",
       "      <td>3392</td>\n",
       "    </tr>\n",
       "  </tbody>\n",
       "</table>\n",
       "</div>"
      ],
      "text/plain": [
       "           pred_leave  pred_not-leave\n",
       "leave            1071              28\n",
       "not-leave           9            3392"
      ]
     },
     "execution_count": 49,
     "metadata": {},
     "output_type": "execute_result"
    }
   ],
   "source": [
    "conf_matrix=pd.DataFrame({\"pred_leave\":[tp,fp],\"pred_not-leave\":[fn,tn]},index=[\"leave\",\"not-leave\"])\n",
    "conf_matrix"
   ]
  },
  {
   "cell_type": "markdown",
   "id": "9f62372e",
   "metadata": {
    "papermill": {
     "duration": 0.041498,
     "end_time": "2022-09-19T05:33:23.125190",
     "exception": false,
     "start_time": "2022-09-19T05:33:23.083692",
     "status": "completed"
    },
    "tags": []
   },
   "source": [
    "**Precision**"
   ]
  },
  {
   "cell_type": "code",
   "execution_count": 50,
   "id": "d7f675e4",
   "metadata": {
    "execution": {
     "iopub.execute_input": "2022-09-19T05:33:23.215206Z",
     "iopub.status.busy": "2022-09-19T05:33:23.214317Z",
     "iopub.status.idle": "2022-09-19T05:33:23.219450Z",
     "shell.execute_reply": "2022-09-19T05:33:23.218663Z"
    },
    "papermill": {
     "duration": 0.053856,
     "end_time": "2022-09-19T05:33:23.221924",
     "exception": false,
     "start_time": "2022-09-19T05:33:23.168068",
     "status": "completed"
    },
    "tags": []
   },
   "outputs": [],
   "source": [
    "# Write the code to import the function for calculation of the specific score\n",
    "from sklearn.metrics import precision_score"
   ]
  },
  {
   "cell_type": "code",
   "execution_count": 51,
   "id": "7753a427",
   "metadata": {
    "execution": {
     "iopub.execute_input": "2022-09-19T05:33:23.308910Z",
     "iopub.status.busy": "2022-09-19T05:33:23.308075Z",
     "iopub.status.idle": "2022-09-19T05:33:23.319346Z",
     "shell.execute_reply": "2022-09-19T05:33:23.318196Z"
    },
    "papermill": {
     "duration": 0.057446,
     "end_time": "2022-09-19T05:33:23.321814",
     "exception": false,
     "start_time": "2022-09-19T05:33:23.264368",
     "status": "completed"
    },
    "tags": []
   },
   "outputs": [
    {
     "data": {
      "text/plain": [
       "0.9916666666666667"
      ]
     },
     "execution_count": 51,
     "metadata": {},
     "output_type": "execute_result"
    }
   ],
   "source": [
    "#Write the code to calculate\n",
    "rf_precion= precision_score(ytest,rf_pred)\n",
    "rf_precion"
   ]
  },
  {
   "cell_type": "markdown",
   "id": "980f1d98",
   "metadata": {
    "papermill": {
     "duration": 0.041974,
     "end_time": "2022-09-19T05:33:23.406447",
     "exception": false,
     "start_time": "2022-09-19T05:33:23.364473",
     "status": "completed"
    },
    "tags": []
   },
   "source": [
    "**Accuracy**"
   ]
  },
  {
   "cell_type": "code",
   "execution_count": 52,
   "id": "01c47bb2",
   "metadata": {
    "execution": {
     "iopub.execute_input": "2022-09-19T05:33:23.491706Z",
     "iopub.status.busy": "2022-09-19T05:33:23.490912Z",
     "iopub.status.idle": "2022-09-19T05:33:23.496078Z",
     "shell.execute_reply": "2022-09-19T05:33:23.495141Z"
    },
    "papermill": {
     "duration": 0.050642,
     "end_time": "2022-09-19T05:33:23.498465",
     "exception": false,
     "start_time": "2022-09-19T05:33:23.447823",
     "status": "completed"
    },
    "tags": []
   },
   "outputs": [],
   "source": [
    "# Write the code to import the function for calculation of the specific score\n",
    "from sklearn.metrics import accuracy_score"
   ]
  },
  {
   "cell_type": "code",
   "execution_count": 53,
   "id": "af956d5d",
   "metadata": {
    "execution": {
     "iopub.execute_input": "2022-09-19T05:33:23.585749Z",
     "iopub.status.busy": "2022-09-19T05:33:23.585077Z",
     "iopub.status.idle": "2022-09-19T05:33:23.592889Z",
     "shell.execute_reply": "2022-09-19T05:33:23.591860Z"
    },
    "papermill": {
     "duration": 0.053328,
     "end_time": "2022-09-19T05:33:23.595079",
     "exception": false,
     "start_time": "2022-09-19T05:33:23.541751",
     "status": "completed"
    },
    "tags": []
   },
   "outputs": [
    {
     "data": {
      "text/plain": [
       "0.9917777777777778"
      ]
     },
     "execution_count": 53,
     "metadata": {},
     "output_type": "execute_result"
    }
   ],
   "source": [
    "# Write the code to calculate\n",
    "rf_acc=accuracy_score(ytest,rf_pred)\n",
    "rf_acc"
   ]
  },
  {
   "cell_type": "markdown",
   "id": "e814d496",
   "metadata": {
    "papermill": {
     "duration": 0.042162,
     "end_time": "2022-09-19T05:33:23.681273",
     "exception": false,
     "start_time": "2022-09-19T05:33:23.639111",
     "status": "completed"
    },
    "tags": []
   },
   "source": [
    "**Recall**"
   ]
  },
  {
   "cell_type": "code",
   "execution_count": 54,
   "id": "734bbe92",
   "metadata": {
    "execution": {
     "iopub.execute_input": "2022-09-19T05:33:23.769212Z",
     "iopub.status.busy": "2022-09-19T05:33:23.768534Z",
     "iopub.status.idle": "2022-09-19T05:33:23.774058Z",
     "shell.execute_reply": "2022-09-19T05:33:23.772809Z"
    },
    "papermill": {
     "duration": 0.052257,
     "end_time": "2022-09-19T05:33:23.776585",
     "exception": false,
     "start_time": "2022-09-19T05:33:23.724328",
     "status": "completed"
    },
    "tags": []
   },
   "outputs": [],
   "source": [
    "# Write the code to import the function for calculation of the specific score\n",
    "from sklearn.metrics import recall_score"
   ]
  },
  {
   "cell_type": "code",
   "execution_count": 55,
   "id": "06a1ddff",
   "metadata": {
    "execution": {
     "iopub.execute_input": "2022-09-19T05:33:23.923571Z",
     "iopub.status.busy": "2022-09-19T05:33:23.923168Z",
     "iopub.status.idle": "2022-09-19T05:33:23.933041Z",
     "shell.execute_reply": "2022-09-19T05:33:23.932090Z"
    },
    "papermill": {
     "duration": 0.057992,
     "end_time": "2022-09-19T05:33:23.935466",
     "exception": false,
     "start_time": "2022-09-19T05:33:23.877474",
     "status": "completed"
    },
    "tags": []
   },
   "outputs": [
    {
     "data": {
      "text/plain": [
       "0.9745222929936306"
      ]
     },
     "execution_count": 55,
     "metadata": {},
     "output_type": "execute_result"
    }
   ],
   "source": [
    "# Write the code to calculate\n",
    "rf_recall=recall_score(ytest,rf_pred)\n",
    "rf_recall"
   ]
  },
  {
   "cell_type": "markdown",
   "id": "2895f6d2",
   "metadata": {
    "papermill": {
     "duration": 0.042674,
     "end_time": "2022-09-19T05:33:24.020947",
     "exception": false,
     "start_time": "2022-09-19T05:33:23.978273",
     "status": "completed"
    },
    "tags": []
   },
   "source": [
    "**F1-Score**"
   ]
  },
  {
   "cell_type": "code",
   "execution_count": 56,
   "id": "94eb9ef7",
   "metadata": {
    "execution": {
     "iopub.execute_input": "2022-09-19T05:33:24.108690Z",
     "iopub.status.busy": "2022-09-19T05:33:24.107891Z",
     "iopub.status.idle": "2022-09-19T05:33:24.113068Z",
     "shell.execute_reply": "2022-09-19T05:33:24.112116Z"
    },
    "papermill": {
     "duration": 0.051392,
     "end_time": "2022-09-19T05:33:24.115397",
     "exception": false,
     "start_time": "2022-09-19T05:33:24.064005",
     "status": "completed"
    },
    "tags": []
   },
   "outputs": [],
   "source": [
    "# Write the code to import the function for calculation of the specific score\n",
    "\n",
    "from sklearn.metrics import f1_score"
   ]
  },
  {
   "cell_type": "code",
   "execution_count": 57,
   "id": "18f63345",
   "metadata": {
    "execution": {
     "iopub.execute_input": "2022-09-19T05:33:24.204361Z",
     "iopub.status.busy": "2022-09-19T05:33:24.203573Z",
     "iopub.status.idle": "2022-09-19T05:33:24.213909Z",
     "shell.execute_reply": "2022-09-19T05:33:24.212808Z"
    },
    "papermill": {
     "duration": 0.057769,
     "end_time": "2022-09-19T05:33:24.216262",
     "exception": false,
     "start_time": "2022-09-19T05:33:24.158493",
     "status": "completed"
    },
    "tags": []
   },
   "outputs": [
    {
     "data": {
      "text/plain": [
       "0.9830197338228546"
      ]
     },
     "execution_count": 57,
     "metadata": {},
     "output_type": "execute_result"
    }
   ],
   "source": [
    "# Write the code to calculate\n",
    "rf_f1_score=f1_score(ytest,rf_pred)\n",
    "rf_f1_score"
   ]
  },
  {
   "cell_type": "markdown",
   "id": "f68a566d",
   "metadata": {
    "papermill": {
     "duration": 0.042364,
     "end_time": "2022-09-19T05:33:24.302591",
     "exception": false,
     "start_time": "2022-09-19T05:33:24.260227",
     "status": "completed"
    },
    "tags": []
   },
   "source": [
    "**Classification Report**"
   ]
  },
  {
   "cell_type": "code",
   "execution_count": 58,
   "id": "f0398368",
   "metadata": {
    "execution": {
     "iopub.execute_input": "2022-09-19T05:33:24.391596Z",
     "iopub.status.busy": "2022-09-19T05:33:24.390826Z",
     "iopub.status.idle": "2022-09-19T05:33:24.395723Z",
     "shell.execute_reply": "2022-09-19T05:33:24.394900Z"
    },
    "papermill": {
     "duration": 0.052739,
     "end_time": "2022-09-19T05:33:24.398164",
     "exception": false,
     "start_time": "2022-09-19T05:33:24.345425",
     "status": "completed"
    },
    "tags": []
   },
   "outputs": [],
   "source": [
    "# Write the code to import the function for calculation of the specific score\n",
    "\n",
    "from sklearn.metrics import classification_report"
   ]
  },
  {
   "cell_type": "code",
   "execution_count": 59,
   "id": "053bd2aa",
   "metadata": {
    "execution": {
     "iopub.execute_input": "2022-09-19T05:33:24.484895Z",
     "iopub.status.busy": "2022-09-19T05:33:24.484470Z",
     "iopub.status.idle": "2022-09-19T05:33:24.503763Z",
     "shell.execute_reply": "2022-09-19T05:33:24.501717Z"
    },
    "papermill": {
     "duration": 0.066132,
     "end_time": "2022-09-19T05:33:24.506787",
     "exception": false,
     "start_time": "2022-09-19T05:33:24.440655",
     "status": "completed"
    },
    "tags": []
   },
   "outputs": [
    {
     "name": "stdout",
     "output_type": "stream",
     "text": [
      "              precision    recall  f1-score   support\n",
      "\n",
      "           0       0.99      1.00      0.99      3401\n",
      "           1       0.99      0.97      0.98      1099\n",
      "\n",
      "    accuracy                           0.99      4500\n",
      "   macro avg       0.99      0.99      0.99      4500\n",
      "weighted avg       0.99      0.99      0.99      4500\n",
      "\n"
     ]
    }
   ],
   "source": [
    "#Write the code to calculate\n",
    "print(classification_report(ytest,rf_pred))"
   ]
  },
  {
   "cell_type": "markdown",
   "id": "0d88a375",
   "metadata": {
    "papermill": {
     "duration": 0.042869,
     "end_time": "2022-09-19T05:33:24.595493",
     "exception": false,
     "start_time": "2022-09-19T05:33:24.552624",
     "status": "completed"
    },
    "tags": []
   },
   "source": [
    "## Logistic Regression"
   ]
  },
  {
   "cell_type": "code",
   "execution_count": 60,
   "id": "b204c957",
   "metadata": {
    "execution": {
     "iopub.execute_input": "2022-09-19T05:33:24.685281Z",
     "iopub.status.busy": "2022-09-19T05:33:24.684882Z",
     "iopub.status.idle": "2022-09-19T05:33:24.690275Z",
     "shell.execute_reply": "2022-09-19T05:33:24.688864Z"
    },
    "papermill": {
     "duration": 0.053508,
     "end_time": "2022-09-19T05:33:24.693120",
     "exception": false,
     "start_time": "2022-09-19T05:33:24.639612",
     "status": "completed"
    },
    "tags": []
   },
   "outputs": [],
   "source": [
    "# Import the model\n",
    "from sklearn.linear_model import LogisticRegression"
   ]
  },
  {
   "cell_type": "code",
   "execution_count": 61,
   "id": "8325c3d1",
   "metadata": {
    "execution": {
     "iopub.execute_input": "2022-09-19T05:33:24.783839Z",
     "iopub.status.busy": "2022-09-19T05:33:24.783015Z",
     "iopub.status.idle": "2022-09-19T05:33:24.788453Z",
     "shell.execute_reply": "2022-09-19T05:33:24.787492Z"
    },
    "papermill": {
     "duration": 0.052189,
     "end_time": "2022-09-19T05:33:24.790764",
     "exception": false,
     "start_time": "2022-09-19T05:33:24.738575",
     "status": "completed"
    },
    "tags": []
   },
   "outputs": [],
   "source": [
    "# Create instance and train, random _state=100\n",
    "lr_clf= LogisticRegression(random_state=100)"
   ]
  },
  {
   "cell_type": "code",
   "execution_count": 62,
   "id": "9c46238d",
   "metadata": {
    "execution": {
     "iopub.execute_input": "2022-09-19T05:33:24.880650Z",
     "iopub.status.busy": "2022-09-19T05:33:24.879821Z",
     "iopub.status.idle": "2022-09-19T05:33:25.166296Z",
     "shell.execute_reply": "2022-09-19T05:33:25.164528Z"
    },
    "papermill": {
     "duration": 0.335414,
     "end_time": "2022-09-19T05:33:25.170231",
     "exception": false,
     "start_time": "2022-09-19T05:33:24.834817",
     "status": "completed"
    },
    "tags": []
   },
   "outputs": [
    {
     "name": "stderr",
     "output_type": "stream",
     "text": [
      "/opt/conda/lib/python3.7/site-packages/sklearn/linear_model/_logistic.py:818: ConvergenceWarning: lbfgs failed to converge (status=1):\n",
      "STOP: TOTAL NO. of ITERATIONS REACHED LIMIT.\n",
      "\n",
      "Increase the number of iterations (max_iter) or scale the data as shown in:\n",
      "    https://scikit-learn.org/stable/modules/preprocessing.html\n",
      "Please also refer to the documentation for alternative solver options:\n",
      "    https://scikit-learn.org/stable/modules/linear_model.html#logistic-regression\n",
      "  extra_warning_msg=_LOGISTIC_SOLVER_CONVERGENCE_MSG,\n"
     ]
    },
    {
     "data": {
      "text/plain": [
       "LogisticRegression(random_state=100)"
      ]
     },
     "execution_count": 62,
     "metadata": {},
     "output_type": "execute_result"
    }
   ],
   "source": [
    "lr_clf.fit(xtrain,ytrain)"
   ]
  },
  {
   "cell_type": "code",
   "execution_count": 63,
   "id": "1297f64d",
   "metadata": {
    "execution": {
     "iopub.execute_input": "2022-09-19T05:33:25.326081Z",
     "iopub.status.busy": "2022-09-19T05:33:25.325668Z",
     "iopub.status.idle": "2022-09-19T05:33:25.341077Z",
     "shell.execute_reply": "2022-09-19T05:33:25.338706Z"
    },
    "papermill": {
     "duration": 0.065192,
     "end_time": "2022-09-19T05:33:25.345904",
     "exception": false,
     "start_time": "2022-09-19T05:33:25.280712",
     "status": "completed"
    },
    "tags": []
   },
   "outputs": [],
   "source": [
    "# get the predictions\n",
    "lr_pred=lr_clf.predict(xtest)\n",
    "lr_pred_prob= lr_clf.predict_proba(xtest)[:1]"
   ]
  },
  {
   "cell_type": "markdown",
   "id": "f1688856",
   "metadata": {
    "papermill": {
     "duration": 0.04423,
     "end_time": "2022-09-19T05:33:25.506321",
     "exception": false,
     "start_time": "2022-09-19T05:33:25.462091",
     "status": "completed"
    },
    "tags": []
   },
   "source": [
    "**Accuracy**"
   ]
  },
  {
   "cell_type": "code",
   "execution_count": 64,
   "id": "6012fb44",
   "metadata": {
    "execution": {
     "iopub.execute_input": "2022-09-19T05:33:25.597565Z",
     "iopub.status.busy": "2022-09-19T05:33:25.597176Z",
     "iopub.status.idle": "2022-09-19T05:33:25.605711Z",
     "shell.execute_reply": "2022-09-19T05:33:25.604502Z"
    },
    "papermill": {
     "duration": 0.057683,
     "end_time": "2022-09-19T05:33:25.607924",
     "exception": false,
     "start_time": "2022-09-19T05:33:25.550241",
     "status": "completed"
    },
    "tags": []
   },
   "outputs": [
    {
     "data": {
      "text/plain": [
       "0.8655555555555555"
      ]
     },
     "execution_count": 64,
     "metadata": {},
     "output_type": "execute_result"
    }
   ],
   "source": [
    "#Write the code here\n",
    "lr_accuracy=accuracy_score(ytest,lr_pred)\n",
    "lr_accuracy"
   ]
  },
  {
   "cell_type": "markdown",
   "id": "a5641fc0",
   "metadata": {
    "papermill": {
     "duration": 0.044862,
     "end_time": "2022-09-19T05:33:25.697009",
     "exception": false,
     "start_time": "2022-09-19T05:33:25.652147",
     "status": "completed"
    },
    "tags": []
   },
   "source": [
    "**Precision**"
   ]
  },
  {
   "cell_type": "code",
   "execution_count": 65,
   "id": "1fd505d5",
   "metadata": {
    "execution": {
     "iopub.execute_input": "2022-09-19T05:33:25.788901Z",
     "iopub.status.busy": "2022-09-19T05:33:25.788079Z",
     "iopub.status.idle": "2022-09-19T05:33:25.799349Z",
     "shell.execute_reply": "2022-09-19T05:33:25.798144Z"
    },
    "papermill": {
     "duration": 0.06019,
     "end_time": "2022-09-19T05:33:25.801880",
     "exception": false,
     "start_time": "2022-09-19T05:33:25.741690",
     "status": "completed"
    },
    "tags": []
   },
   "outputs": [
    {
     "data": {
      "text/plain": [
       "0.747"
      ]
     },
     "execution_count": 65,
     "metadata": {},
     "output_type": "execute_result"
    }
   ],
   "source": [
    "#Write the code here\n",
    "lr_precision=precision_score(ytest,lr_pred)\n",
    "lr_precision"
   ]
  },
  {
   "cell_type": "markdown",
   "id": "d13ef5e9",
   "metadata": {
    "papermill": {
     "duration": 0.045488,
     "end_time": "2022-09-19T05:33:25.893002",
     "exception": false,
     "start_time": "2022-09-19T05:33:25.847514",
     "status": "completed"
    },
    "tags": []
   },
   "source": [
    "**Recall**"
   ]
  },
  {
   "cell_type": "code",
   "execution_count": 66,
   "id": "bbf7430e",
   "metadata": {
    "execution": {
     "iopub.execute_input": "2022-09-19T05:33:25.983216Z",
     "iopub.status.busy": "2022-09-19T05:33:25.982136Z",
     "iopub.status.idle": "2022-09-19T05:33:25.992418Z",
     "shell.execute_reply": "2022-09-19T05:33:25.991429Z"
    },
    "papermill": {
     "duration": 0.057969,
     "end_time": "2022-09-19T05:33:25.994758",
     "exception": false,
     "start_time": "2022-09-19T05:33:25.936789",
     "status": "completed"
    },
    "tags": []
   },
   "outputs": [
    {
     "data": {
      "text/plain": [
       "0.6797088262056415"
      ]
     },
     "execution_count": 66,
     "metadata": {},
     "output_type": "execute_result"
    }
   ],
   "source": [
    "#Write the code here\n",
    "lr_recall=recall_score(ytest,lr_pred)\n",
    "lr_recall"
   ]
  },
  {
   "cell_type": "markdown",
   "id": "11a0bfcf",
   "metadata": {
    "papermill": {
     "duration": 0.045826,
     "end_time": "2022-09-19T05:33:26.087535",
     "exception": false,
     "start_time": "2022-09-19T05:33:26.041709",
     "status": "completed"
    },
    "tags": []
   },
   "source": [
    "**F1 Score**"
   ]
  },
  {
   "cell_type": "code",
   "execution_count": 67,
   "id": "03cac49c",
   "metadata": {
    "execution": {
     "iopub.execute_input": "2022-09-19T05:33:26.178933Z",
     "iopub.status.busy": "2022-09-19T05:33:26.178198Z",
     "iopub.status.idle": "2022-09-19T05:33:26.188305Z",
     "shell.execute_reply": "2022-09-19T05:33:26.187161Z"
    },
    "papermill": {
     "duration": 0.05796,
     "end_time": "2022-09-19T05:33:26.190805",
     "exception": false,
     "start_time": "2022-09-19T05:33:26.132845",
     "status": "completed"
    },
    "tags": []
   },
   "outputs": [
    {
     "data": {
      "text/plain": [
       "0.7117675083373035"
      ]
     },
     "execution_count": 67,
     "metadata": {},
     "output_type": "execute_result"
    }
   ],
   "source": [
    "#Write the code here\n",
    "lr_f1_score=f1_score(ytest,lr_pred)\n",
    "lr_f1_score"
   ]
  },
  {
   "cell_type": "markdown",
   "id": "c228243c",
   "metadata": {
    "papermill": {
     "duration": 0.043941,
     "end_time": "2022-09-19T05:33:26.281407",
     "exception": false,
     "start_time": "2022-09-19T05:33:26.237466",
     "status": "completed"
    },
    "tags": []
   },
   "source": [
    "**Classification Report**"
   ]
  },
  {
   "cell_type": "code",
   "execution_count": 68,
   "id": "57ac10c0",
   "metadata": {
    "execution": {
     "iopub.execute_input": "2022-09-19T05:33:26.372261Z",
     "iopub.status.busy": "2022-09-19T05:33:26.371051Z",
     "iopub.status.idle": "2022-09-19T05:33:26.389329Z",
     "shell.execute_reply": "2022-09-19T05:33:26.387725Z"
    },
    "papermill": {
     "duration": 0.067181,
     "end_time": "2022-09-19T05:33:26.392712",
     "exception": false,
     "start_time": "2022-09-19T05:33:26.325531",
     "status": "completed"
    },
    "tags": []
   },
   "outputs": [
    {
     "name": "stdout",
     "output_type": "stream",
     "text": [
      "              precision    recall  f1-score   support\n",
      "\n",
      "           0       0.90      0.93      0.91      3401\n",
      "           1       0.75      0.68      0.71      1099\n",
      "\n",
      "    accuracy                           0.87      4500\n",
      "   macro avg       0.82      0.80      0.81      4500\n",
      "weighted avg       0.86      0.87      0.86      4500\n",
      "\n"
     ]
    }
   ],
   "source": [
    "#Write the code here\n",
    "print(classification_report(ytest,lr_pred))"
   ]
  },
  {
   "cell_type": "markdown",
   "id": "658a7bb3",
   "metadata": {
    "papermill": {
     "duration": 0.044017,
     "end_time": "2022-09-19T05:33:26.482327",
     "exception": false,
     "start_time": "2022-09-19T05:33:26.438310",
     "status": "completed"
    },
    "tags": []
   },
   "source": [
    "## Ada Boost"
   ]
  },
  {
   "cell_type": "code",
   "execution_count": 69,
   "id": "5daa6fff",
   "metadata": {
    "execution": {
     "iopub.execute_input": "2022-09-19T05:33:26.572823Z",
     "iopub.status.busy": "2022-09-19T05:33:26.571682Z",
     "iopub.status.idle": "2022-09-19T05:33:26.577018Z",
     "shell.execute_reply": "2022-09-19T05:33:26.575994Z"
    },
    "papermill": {
     "duration": 0.052795,
     "end_time": "2022-09-19T05:33:26.579245",
     "exception": false,
     "start_time": "2022-09-19T05:33:26.526450",
     "status": "completed"
    },
    "tags": []
   },
   "outputs": [],
   "source": [
    "#Write the code here to import the model\n",
    "from sklearn.ensemble import AdaBoostClassifier"
   ]
  },
  {
   "cell_type": "code",
   "execution_count": 70,
   "id": "d67c82c2",
   "metadata": {
    "execution": {
     "iopub.execute_input": "2022-09-19T05:33:26.670779Z",
     "iopub.status.busy": "2022-09-19T05:33:26.669838Z",
     "iopub.status.idle": "2022-09-19T05:33:27.144551Z",
     "shell.execute_reply": "2022-09-19T05:33:27.143368Z"
    },
    "papermill": {
     "duration": 0.524193,
     "end_time": "2022-09-19T05:33:27.147202",
     "exception": false,
     "start_time": "2022-09-19T05:33:26.623009",
     "status": "completed"
    },
    "tags": []
   },
   "outputs": [
    {
     "data": {
      "text/plain": [
       "AdaBoostClassifier(random_state=100)"
      ]
     },
     "execution_count": 70,
     "metadata": {},
     "output_type": "execute_result"
    }
   ],
   "source": [
    "#Write the code here to make an instance and train the model with random state =100\n",
    "clf_adb = AdaBoostClassifier(random_state=100)\n",
    "clf_adb.fit(xtrain, ytrain) "
   ]
  },
  {
   "cell_type": "code",
   "execution_count": 71,
   "id": "c666dba1",
   "metadata": {
    "execution": {
     "iopub.execute_input": "2022-09-19T05:33:27.242081Z",
     "iopub.status.busy": "2022-09-19T05:33:27.241170Z",
     "iopub.status.idle": "2022-09-19T05:33:27.294322Z",
     "shell.execute_reply": "2022-09-19T05:33:27.293247Z"
    },
    "papermill": {
     "duration": 0.105663,
     "end_time": "2022-09-19T05:33:27.297095",
     "exception": false,
     "start_time": "2022-09-19T05:33:27.191432",
     "status": "completed"
    },
    "tags": []
   },
   "outputs": [],
   "source": [
    "# Get the predictions\n",
    "pred_clf_adb=clf_adb.predict(xtest)"
   ]
  },
  {
   "cell_type": "markdown",
   "id": "ab397c66",
   "metadata": {
    "papermill": {
     "duration": 0.044181,
     "end_time": "2022-09-19T05:33:27.385472",
     "exception": false,
     "start_time": "2022-09-19T05:33:27.341291",
     "status": "completed"
    },
    "tags": []
   },
   "source": [
    "**Accuracy**"
   ]
  },
  {
   "cell_type": "code",
   "execution_count": 72,
   "id": "78d7a926",
   "metadata": {
    "execution": {
     "iopub.execute_input": "2022-09-19T05:33:27.476407Z",
     "iopub.status.busy": "2022-09-19T05:33:27.475745Z",
     "iopub.status.idle": "2022-09-19T05:33:27.483943Z",
     "shell.execute_reply": "2022-09-19T05:33:27.482798Z"
    },
    "papermill": {
     "duration": 0.05629,
     "end_time": "2022-09-19T05:33:27.486251",
     "exception": false,
     "start_time": "2022-09-19T05:33:27.429961",
     "status": "completed"
    },
    "tags": []
   },
   "outputs": [
    {
     "data": {
      "text/plain": [
       "0.9588888888888889"
      ]
     },
     "execution_count": 72,
     "metadata": {},
     "output_type": "execute_result"
    }
   ],
   "source": [
    "#Write code here\n",
    "ab_accuracy= accuracy_score(ytest,pred_clf_adb)\n",
    "ab_accuracy"
   ]
  },
  {
   "cell_type": "markdown",
   "id": "0f1794a3",
   "metadata": {
    "papermill": {
     "duration": 0.044803,
     "end_time": "2022-09-19T05:33:27.576969",
     "exception": false,
     "start_time": "2022-09-19T05:33:27.532166",
     "status": "completed"
    },
    "tags": []
   },
   "source": [
    "**Precision**"
   ]
  },
  {
   "cell_type": "code",
   "execution_count": 73,
   "id": "2de68894",
   "metadata": {
    "execution": {
     "iopub.execute_input": "2022-09-19T05:33:27.671950Z",
     "iopub.status.busy": "2022-09-19T05:33:27.671178Z",
     "iopub.status.idle": "2022-09-19T05:33:27.681945Z",
     "shell.execute_reply": "2022-09-19T05:33:27.680737Z"
    },
    "papermill": {
     "duration": 0.062469,
     "end_time": "2022-09-19T05:33:27.684412",
     "exception": false,
     "start_time": "2022-09-19T05:33:27.621943",
     "status": "completed"
    },
    "tags": []
   },
   "outputs": [
    {
     "data": {
      "text/plain": [
       "0.9147005444646098"
      ]
     },
     "execution_count": 73,
     "metadata": {},
     "output_type": "execute_result"
    }
   ],
   "source": [
    "#Write code here\n",
    "ab_precision= precision_score(ytest, pred_clf_adb)\n",
    "ab_precision"
   ]
  },
  {
   "cell_type": "markdown",
   "id": "5ab4a796",
   "metadata": {
    "papermill": {
     "duration": 0.04569,
     "end_time": "2022-09-19T05:33:27.774665",
     "exception": false,
     "start_time": "2022-09-19T05:33:27.728975",
     "status": "completed"
    },
    "tags": []
   },
   "source": [
    "**Recall**"
   ]
  },
  {
   "cell_type": "code",
   "execution_count": 74,
   "id": "951591a3",
   "metadata": {
    "execution": {
     "iopub.execute_input": "2022-09-19T05:33:27.868477Z",
     "iopub.status.busy": "2022-09-19T05:33:27.867795Z",
     "iopub.status.idle": "2022-09-19T05:33:27.879945Z",
     "shell.execute_reply": "2022-09-19T05:33:27.878566Z"
    },
    "papermill": {
     "duration": 0.061847,
     "end_time": "2022-09-19T05:33:27.883037",
     "exception": false,
     "start_time": "2022-09-19T05:33:27.821190",
     "status": "completed"
    },
    "tags": []
   },
   "outputs": [
    {
     "data": {
      "text/plain": [
       "0.9171974522292994"
      ]
     },
     "execution_count": 74,
     "metadata": {},
     "output_type": "execute_result"
    }
   ],
   "source": [
    "#Write code here\n",
    "ab_recall= recall_score(ytest, pred_clf_adb)\n",
    "ab_recall"
   ]
  },
  {
   "cell_type": "markdown",
   "id": "0ea24573",
   "metadata": {
    "papermill": {
     "duration": 0.044128,
     "end_time": "2022-09-19T05:33:27.971894",
     "exception": false,
     "start_time": "2022-09-19T05:33:27.927766",
     "status": "completed"
    },
    "tags": []
   },
   "source": [
    "**F1-Score**"
   ]
  },
  {
   "cell_type": "code",
   "execution_count": 75,
   "id": "b2292ddb",
   "metadata": {
    "execution": {
     "iopub.execute_input": "2022-09-19T05:33:28.064181Z",
     "iopub.status.busy": "2022-09-19T05:33:28.063213Z",
     "iopub.status.idle": "2022-09-19T05:33:28.072899Z",
     "shell.execute_reply": "2022-09-19T05:33:28.071732Z"
    },
    "papermill": {
     "duration": 0.058843,
     "end_time": "2022-09-19T05:33:28.075523",
     "exception": false,
     "start_time": "2022-09-19T05:33:28.016680",
     "status": "completed"
    },
    "tags": []
   },
   "outputs": [
    {
     "data": {
      "text/plain": [
       "0.9159472966833256"
      ]
     },
     "execution_count": 75,
     "metadata": {},
     "output_type": "execute_result"
    }
   ],
   "source": [
    "#Write code here\n",
    "ab_f1_score=f1_score(ytest, pred_clf_adb)\n",
    "ab_f1_score"
   ]
  },
  {
   "cell_type": "markdown",
   "id": "c717eec8",
   "metadata": {
    "papermill": {
     "duration": 0.044741,
     "end_time": "2022-09-19T05:33:28.164953",
     "exception": false,
     "start_time": "2022-09-19T05:33:28.120212",
     "status": "completed"
    },
    "tags": []
   },
   "source": [
    "**Classification Report**"
   ]
  },
  {
   "cell_type": "code",
   "execution_count": 76,
   "id": "76983598",
   "metadata": {
    "execution": {
     "iopub.execute_input": "2022-09-19T05:33:28.260011Z",
     "iopub.status.busy": "2022-09-19T05:33:28.259580Z",
     "iopub.status.idle": "2022-09-19T05:33:28.276160Z",
     "shell.execute_reply": "2022-09-19T05:33:28.275268Z"
    },
    "papermill": {
     "duration": 0.069026,
     "end_time": "2022-09-19T05:33:28.279853",
     "exception": false,
     "start_time": "2022-09-19T05:33:28.210827",
     "status": "completed"
    },
    "tags": []
   },
   "outputs": [
    {
     "name": "stdout",
     "output_type": "stream",
     "text": [
      "              precision    recall  f1-score   support\n",
      "\n",
      "           0       0.97      0.97      0.97      3401\n",
      "           1       0.91      0.92      0.92      1099\n",
      "\n",
      "    accuracy                           0.96      4500\n",
      "   macro avg       0.94      0.94      0.94      4500\n",
      "weighted avg       0.96      0.96      0.96      4500\n",
      "\n"
     ]
    }
   ],
   "source": [
    "#Write code here\n",
    "print(classification_report(ytest,pred_clf_adb))"
   ]
  },
  {
   "cell_type": "markdown",
   "id": "53376777",
   "metadata": {
    "papermill": {
     "duration": 0.044425,
     "end_time": "2022-09-19T05:33:28.370153",
     "exception": false,
     "start_time": "2022-09-19T05:33:28.325728",
     "status": "completed"
    },
    "tags": []
   },
   "source": [
    "## XG Boost"
   ]
  },
  {
   "cell_type": "code",
   "execution_count": 77,
   "id": "23c74669",
   "metadata": {
    "execution": {
     "iopub.execute_input": "2022-09-19T05:33:28.464492Z",
     "iopub.status.busy": "2022-09-19T05:33:28.463752Z",
     "iopub.status.idle": "2022-09-19T05:33:42.136956Z",
     "shell.execute_reply": "2022-09-19T05:33:42.134893Z"
    },
    "papermill": {
     "duration": 13.723933,
     "end_time": "2022-09-19T05:33:42.139531",
     "exception": false,
     "start_time": "2022-09-19T05:33:28.415598",
     "status": "completed"
    },
    "scrolled": true,
    "tags": []
   },
   "outputs": [
    {
     "name": "stdout",
     "output_type": "stream",
     "text": [
      "Requirement already satisfied: xgboost in /opt/conda/lib/python3.7/site-packages (1.6.2)\r\n",
      "Requirement already satisfied: scipy in /opt/conda/lib/python3.7/site-packages (from xgboost) (1.7.3)\r\n",
      "Requirement already satisfied: numpy in /opt/conda/lib/python3.7/site-packages (from xgboost) (1.21.6)\r\n",
      "\u001b[33mWARNING: Running pip as the 'root' user can result in broken permissions and conflicting behaviour with the system package manager. It is recommended to use a virtual environment instead: https://pip.pypa.io/warnings/venv\u001b[0m\u001b[33m\r\n",
      "\u001b[0mNote: you may need to restart the kernel to use updated packages.\n"
     ]
    }
   ],
   "source": [
    "pip install xgboost"
   ]
  },
  {
   "cell_type": "code",
   "execution_count": 78,
   "id": "77c648f2",
   "metadata": {
    "execution": {
     "iopub.execute_input": "2022-09-19T05:33:42.232246Z",
     "iopub.status.busy": "2022-09-19T05:33:42.231786Z",
     "iopub.status.idle": "2022-09-19T05:33:42.367292Z",
     "shell.execute_reply": "2022-09-19T05:33:42.365541Z"
    },
    "papermill": {
     "duration": 0.185706,
     "end_time": "2022-09-19T05:33:42.370216",
     "exception": false,
     "start_time": "2022-09-19T05:33:42.184510",
     "status": "completed"
    },
    "tags": []
   },
   "outputs": [],
   "source": [
    "import xgboost"
   ]
  },
  {
   "cell_type": "code",
   "execution_count": 79,
   "id": "81edb928",
   "metadata": {
    "execution": {
     "iopub.execute_input": "2022-09-19T05:33:42.467548Z",
     "iopub.status.busy": "2022-09-19T05:33:42.466865Z",
     "iopub.status.idle": "2022-09-19T05:33:42.472287Z",
     "shell.execute_reply": "2022-09-19T05:33:42.471124Z"
    },
    "papermill": {
     "duration": 0.057735,
     "end_time": "2022-09-19T05:33:42.475170",
     "exception": false,
     "start_time": "2022-09-19T05:33:42.417435",
     "status": "completed"
    },
    "scrolled": true,
    "tags": []
   },
   "outputs": [],
   "source": [
    "#Write the code here to import the model\n",
    "from xgboost import XGBClassifier"
   ]
  },
  {
   "cell_type": "code",
   "execution_count": 80,
   "id": "85720e1e",
   "metadata": {
    "execution": {
     "iopub.execute_input": "2022-09-19T05:33:42.568518Z",
     "iopub.status.busy": "2022-09-19T05:33:42.568040Z",
     "iopub.status.idle": "2022-09-19T05:33:43.591666Z",
     "shell.execute_reply": "2022-09-19T05:33:43.590717Z"
    },
    "papermill": {
     "duration": 1.074261,
     "end_time": "2022-09-19T05:33:43.594724",
     "exception": false,
     "start_time": "2022-09-19T05:33:42.520463",
     "status": "completed"
    },
    "tags": []
   },
   "outputs": [
    {
     "data": {
      "text/plain": [
       "XGBClassifier(base_score=0.5, booster='gbtree', callbacks=None,\n",
       "              colsample_bylevel=1, colsample_bynode=1, colsample_bytree=1,\n",
       "              early_stopping_rounds=None, enable_categorical=False,\n",
       "              eval_metric=None, gamma=0, gpu_id=-1, grow_policy='depthwise',\n",
       "              importance_type=None, interaction_constraints='',\n",
       "              learning_rate=0.300000012, max_bin=256, max_cat_to_onehot=4,\n",
       "              max_delta_step=0, max_depth=6, max_leaves=0, min_child_weight=1,\n",
       "              missing=nan, monotone_constraints='()', n_estimators=100,\n",
       "              n_jobs=0, num_parallel_tree=1, predictor='auto', random_state=100,\n",
       "              reg_alpha=0, reg_lambda=1, ...)"
      ]
     },
     "execution_count": 80,
     "metadata": {},
     "output_type": "execute_result"
    }
   ],
   "source": [
    "#Write the code here to make an instance and train the model with random state =100\n",
    "clf_adb = XGBClassifier(random_state=100)\n",
    "clf_adb.fit(xtrain, ytrain) "
   ]
  },
  {
   "cell_type": "code",
   "execution_count": 81,
   "id": "988925c7",
   "metadata": {
    "execution": {
     "iopub.execute_input": "2022-09-19T05:33:43.687850Z",
     "iopub.status.busy": "2022-09-19T05:33:43.687061Z",
     "iopub.status.idle": "2022-09-19T05:33:43.703905Z",
     "shell.execute_reply": "2022-09-19T05:33:43.702935Z"
    },
    "papermill": {
     "duration": 0.066494,
     "end_time": "2022-09-19T05:33:43.706614",
     "exception": false,
     "start_time": "2022-09-19T05:33:43.640120",
     "status": "completed"
    },
    "tags": []
   },
   "outputs": [],
   "source": [
    "# Get the predictions\n",
    "pred_clf_xgb=clf_adb.predict(xtest)"
   ]
  },
  {
   "cell_type": "markdown",
   "id": "d5af5dde",
   "metadata": {
    "papermill": {
     "duration": 0.045073,
     "end_time": "2022-09-19T05:33:43.799190",
     "exception": false,
     "start_time": "2022-09-19T05:33:43.754117",
     "status": "completed"
    },
    "tags": []
   },
   "source": [
    "**Accuracy**"
   ]
  },
  {
   "cell_type": "code",
   "execution_count": 82,
   "id": "ba90356c",
   "metadata": {
    "execution": {
     "iopub.execute_input": "2022-09-19T05:33:43.893096Z",
     "iopub.status.busy": "2022-09-19T05:33:43.892661Z",
     "iopub.status.idle": "2022-09-19T05:33:43.901540Z",
     "shell.execute_reply": "2022-09-19T05:33:43.900677Z"
    },
    "papermill": {
     "duration": 0.058982,
     "end_time": "2022-09-19T05:33:43.903864",
     "exception": false,
     "start_time": "2022-09-19T05:33:43.844882",
     "status": "completed"
    },
    "tags": []
   },
   "outputs": [
    {
     "data": {
      "text/plain": [
       "0.9588888888888889"
      ]
     },
     "execution_count": 82,
     "metadata": {},
     "output_type": "execute_result"
    }
   ],
   "source": [
    "#Write code here\n",
    "xgb_accuracy=accuracy_score(ytest,pred_clf_xgb)\n",
    "ab_accuracy"
   ]
  },
  {
   "cell_type": "markdown",
   "id": "bd2aef50",
   "metadata": {
    "papermill": {
     "duration": 0.045832,
     "end_time": "2022-09-19T05:33:43.996668",
     "exception": false,
     "start_time": "2022-09-19T05:33:43.950836",
     "status": "completed"
    },
    "tags": []
   },
   "source": [
    "**Precision**"
   ]
  },
  {
   "cell_type": "code",
   "execution_count": 83,
   "id": "c0cd9e91",
   "metadata": {
    "execution": {
     "iopub.execute_input": "2022-09-19T05:33:44.091167Z",
     "iopub.status.busy": "2022-09-19T05:33:44.090352Z",
     "iopub.status.idle": "2022-09-19T05:33:44.101111Z",
     "shell.execute_reply": "2022-09-19T05:33:44.100028Z"
    },
    "papermill": {
     "duration": 0.060096,
     "end_time": "2022-09-19T05:33:44.103442",
     "exception": false,
     "start_time": "2022-09-19T05:33:44.043346",
     "status": "completed"
    },
    "tags": []
   },
   "outputs": [
    {
     "data": {
      "text/plain": [
       "0.9879406307977736"
      ]
     },
     "execution_count": 83,
     "metadata": {},
     "output_type": "execute_result"
    }
   ],
   "source": [
    "#Write code here\n",
    "xgb_precision= precision_score(ytest, pred_clf_xgb)\n",
    "xgb_precision"
   ]
  },
  {
   "cell_type": "markdown",
   "id": "835287f4",
   "metadata": {
    "papermill": {
     "duration": 0.044752,
     "end_time": "2022-09-19T05:33:44.193769",
     "exception": false,
     "start_time": "2022-09-19T05:33:44.149017",
     "status": "completed"
    },
    "tags": []
   },
   "source": [
    "**Recall**"
   ]
  },
  {
   "cell_type": "code",
   "execution_count": 84,
   "id": "eb5cf018",
   "metadata": {
    "execution": {
     "iopub.execute_input": "2022-09-19T05:33:44.290753Z",
     "iopub.status.busy": "2022-09-19T05:33:44.290307Z",
     "iopub.status.idle": "2022-09-19T05:33:44.302076Z",
     "shell.execute_reply": "2022-09-19T05:33:44.300609Z"
    },
    "papermill": {
     "duration": 0.065707,
     "end_time": "2022-09-19T05:33:44.305004",
     "exception": false,
     "start_time": "2022-09-19T05:33:44.239297",
     "status": "completed"
    },
    "tags": []
   },
   "outputs": [
    {
     "data": {
      "text/plain": [
       "0.9690627843494085"
      ]
     },
     "execution_count": 84,
     "metadata": {},
     "output_type": "execute_result"
    }
   ],
   "source": [
    "#Write code here\n",
    "xgb_recall=recall_score(ytest, pred_clf_xgb)\n",
    "xgb_recall"
   ]
  },
  {
   "cell_type": "markdown",
   "id": "29a2ca48",
   "metadata": {
    "papermill": {
     "duration": 0.045457,
     "end_time": "2022-09-19T05:33:44.396402",
     "exception": false,
     "start_time": "2022-09-19T05:33:44.350945",
     "status": "completed"
    },
    "tags": []
   },
   "source": [
    "**F1-Score**"
   ]
  },
  {
   "cell_type": "code",
   "execution_count": 85,
   "id": "ebfbc2a6",
   "metadata": {
    "execution": {
     "iopub.execute_input": "2022-09-19T05:33:44.489286Z",
     "iopub.status.busy": "2022-09-19T05:33:44.488816Z",
     "iopub.status.idle": "2022-09-19T05:33:44.501777Z",
     "shell.execute_reply": "2022-09-19T05:33:44.499696Z"
    },
    "papermill": {
     "duration": 0.064118,
     "end_time": "2022-09-19T05:33:44.506039",
     "exception": false,
     "start_time": "2022-09-19T05:33:44.441921",
     "status": "completed"
    },
    "tags": []
   },
   "outputs": [
    {
     "data": {
      "text/plain": [
       "0.9784106568672484"
      ]
     },
     "execution_count": 85,
     "metadata": {},
     "output_type": "execute_result"
    }
   ],
   "source": [
    "#Write code here\n",
    "xgb_f1_score=f1_score(ytest, pred_clf_xgb)\n",
    "xgb_f1_score"
   ]
  },
  {
   "cell_type": "markdown",
   "id": "51b313a1",
   "metadata": {
    "papermill": {
     "duration": 0.048416,
     "end_time": "2022-09-19T05:33:44.602892",
     "exception": false,
     "start_time": "2022-09-19T05:33:44.554476",
     "status": "completed"
    },
    "tags": []
   },
   "source": [
    "**Classification Report**"
   ]
  },
  {
   "cell_type": "code",
   "execution_count": 86,
   "id": "eb07a8d2",
   "metadata": {
    "execution": {
     "iopub.execute_input": "2022-09-19T05:33:44.698180Z",
     "iopub.status.busy": "2022-09-19T05:33:44.697304Z",
     "iopub.status.idle": "2022-09-19T05:33:44.716891Z",
     "shell.execute_reply": "2022-09-19T05:33:44.715057Z"
    },
    "papermill": {
     "duration": 0.071204,
     "end_time": "2022-09-19T05:33:44.720921",
     "exception": false,
     "start_time": "2022-09-19T05:33:44.649717",
     "status": "completed"
    },
    "scrolled": true,
    "tags": []
   },
   "outputs": [
    {
     "name": "stdout",
     "output_type": "stream",
     "text": [
      "              precision    recall  f1-score   support\n",
      "\n",
      "           0       0.99      1.00      0.99      3401\n",
      "           1       0.99      0.97      0.98      1099\n",
      "\n",
      "    accuracy                           0.99      4500\n",
      "   macro avg       0.99      0.98      0.99      4500\n",
      "weighted avg       0.99      0.99      0.99      4500\n",
      "\n"
     ]
    }
   ],
   "source": [
    "#Write code here\n",
    "print(classification_report(ytest,pred_clf_xgb))"
   ]
  },
  {
   "cell_type": "code",
   "execution_count": 87,
   "id": "24a4c5eb",
   "metadata": {
    "execution": {
     "iopub.execute_input": "2022-09-19T05:33:44.815261Z",
     "iopub.status.busy": "2022-09-19T05:33:44.814846Z",
     "iopub.status.idle": "2022-09-19T05:33:44.822126Z",
     "shell.execute_reply": "2022-09-19T05:33:44.820950Z"
    },
    "papermill": {
     "duration": 0.057656,
     "end_time": "2022-09-19T05:33:44.824853",
     "exception": false,
     "start_time": "2022-09-19T05:33:44.767197",
     "status": "completed"
    },
    "tags": []
   },
   "outputs": [],
   "source": [
    "df=df_onehot.copy()"
   ]
  },
  {
   "cell_type": "code",
   "execution_count": 88,
   "id": "e56c9112",
   "metadata": {
    "execution": {
     "iopub.execute_input": "2022-09-19T05:33:44.921141Z",
     "iopub.status.busy": "2022-09-19T05:33:44.920687Z",
     "iopub.status.idle": "2022-09-19T05:33:44.926031Z",
     "shell.execute_reply": "2022-09-19T05:33:44.924942Z"
    },
    "papermill": {
     "duration": 0.05689,
     "end_time": "2022-09-19T05:33:44.928279",
     "exception": false,
     "start_time": "2022-09-19T05:33:44.871389",
     "status": "completed"
    },
    "tags": []
   },
   "outputs": [],
   "source": [
    "from sklearn.tree import DecisionTreeClassifier"
   ]
  },
  {
   "cell_type": "code",
   "execution_count": 89,
   "id": "1192f57e",
   "metadata": {
    "execution": {
     "iopub.execute_input": "2022-09-19T05:33:45.022454Z",
     "iopub.status.busy": "2022-09-19T05:33:45.022015Z",
     "iopub.status.idle": "2022-09-19T05:33:45.027679Z",
     "shell.execute_reply": "2022-09-19T05:33:45.026730Z"
    },
    "papermill": {
     "duration": 0.055661,
     "end_time": "2022-09-19T05:33:45.030081",
     "exception": false,
     "start_time": "2022-09-19T05:33:44.974420",
     "status": "completed"
    },
    "tags": []
   },
   "outputs": [],
   "source": [
    "clf_dt = DecisionTreeClassifier(\n",
    "    max_depth=3, criterion='gini', random_state=100)"
   ]
  },
  {
   "cell_type": "code",
   "execution_count": 90,
   "id": "47c359bc",
   "metadata": {
    "execution": {
     "iopub.execute_input": "2022-09-19T05:33:45.125739Z",
     "iopub.status.busy": "2022-09-19T05:33:45.125277Z",
     "iopub.status.idle": "2022-09-19T05:33:45.149442Z",
     "shell.execute_reply": "2022-09-19T05:33:45.148266Z"
    },
    "papermill": {
     "duration": 0.074419,
     "end_time": "2022-09-19T05:33:45.151831",
     "exception": false,
     "start_time": "2022-09-19T05:33:45.077412",
     "status": "completed"
    },
    "tags": []
   },
   "outputs": [
    {
     "data": {
      "text/plain": [
       "DecisionTreeClassifier(max_depth=3, random_state=100)"
      ]
     },
     "execution_count": 90,
     "metadata": {},
     "output_type": "execute_result"
    }
   ],
   "source": [
    "clf_dt.fit(xtrain, ytrain)"
   ]
  },
  {
   "cell_type": "code",
   "execution_count": 91,
   "id": "fd0bbdf5",
   "metadata": {
    "execution": {
     "iopub.execute_input": "2022-09-19T05:33:45.246879Z",
     "iopub.status.busy": "2022-09-19T05:33:45.245667Z",
     "iopub.status.idle": "2022-09-19T05:33:45.256647Z",
     "shell.execute_reply": "2022-09-19T05:33:45.255086Z"
    },
    "papermill": {
     "duration": 0.061716,
     "end_time": "2022-09-19T05:33:45.259876",
     "exception": false,
     "start_time": "2022-09-19T05:33:45.198160",
     "status": "completed"
    },
    "tags": []
   },
   "outputs": [],
   "source": [
    "dt_pred = clf_dt.predict(xtest)\n",
    "dt_pred_prb = clf_dt.predict_proba(xtest)[:, 1]"
   ]
  },
  {
   "cell_type": "code",
   "execution_count": 92,
   "id": "94d636ea",
   "metadata": {
    "execution": {
     "iopub.execute_input": "2022-09-19T05:33:45.355351Z",
     "iopub.status.busy": "2022-09-19T05:33:45.354905Z",
     "iopub.status.idle": "2022-09-19T05:33:45.360002Z",
     "shell.execute_reply": "2022-09-19T05:33:45.358559Z"
    },
    "papermill": {
     "duration": 0.055206,
     "end_time": "2022-09-19T05:33:45.362595",
     "exception": false,
     "start_time": "2022-09-19T05:33:45.307389",
     "status": "completed"
    },
    "tags": []
   },
   "outputs": [],
   "source": [
    "from sklearn.metrics import accuracy_score"
   ]
  },
  {
   "cell_type": "code",
   "execution_count": 93,
   "id": "c07ee9f4",
   "metadata": {
    "execution": {
     "iopub.execute_input": "2022-09-19T05:33:45.457530Z",
     "iopub.status.busy": "2022-09-19T05:33:45.457105Z",
     "iopub.status.idle": "2022-09-19T05:33:45.464775Z",
     "shell.execute_reply": "2022-09-19T05:33:45.463222Z"
    },
    "papermill": {
     "duration": 0.058559,
     "end_time": "2022-09-19T05:33:45.468148",
     "exception": false,
     "start_time": "2022-09-19T05:33:45.409589",
     "status": "completed"
    },
    "tags": []
   },
   "outputs": [
    {
     "name": "stdout",
     "output_type": "stream",
     "text": [
      "Accuracy: 0.9253333333333333\n"
     ]
    }
   ],
   "source": [
    "accuracy_dt =accuracy_score(ytest,dt_pred)\n",
    "print(\"Accuracy: {}\".format(accuracy_dt))"
   ]
  },
  {
   "cell_type": "code",
   "execution_count": 94,
   "id": "fc10b2f9",
   "metadata": {
    "execution": {
     "iopub.execute_input": "2022-09-19T05:33:45.568131Z",
     "iopub.status.busy": "2022-09-19T05:33:45.566832Z",
     "iopub.status.idle": "2022-09-19T05:33:45.573079Z",
     "shell.execute_reply": "2022-09-19T05:33:45.571758Z"
    },
    "papermill": {
     "duration": 0.056708,
     "end_time": "2022-09-19T05:33:45.575851",
     "exception": false,
     "start_time": "2022-09-19T05:33:45.519143",
     "status": "completed"
    },
    "tags": []
   },
   "outputs": [],
   "source": [
    "from sklearn.metrics import precision_score"
   ]
  },
  {
   "cell_type": "code",
   "execution_count": 95,
   "id": "8bc49470",
   "metadata": {
    "execution": {
     "iopub.execute_input": "2022-09-19T05:33:45.672713Z",
     "iopub.status.busy": "2022-09-19T05:33:45.672274Z",
     "iopub.status.idle": "2022-09-19T05:33:45.683940Z",
     "shell.execute_reply": "2022-09-19T05:33:45.682438Z"
    },
    "papermill": {
     "duration": 0.063429,
     "end_time": "2022-09-19T05:33:45.686731",
     "exception": false,
     "start_time": "2022-09-19T05:33:45.623302",
     "status": "completed"
    },
    "tags": []
   },
   "outputs": [
    {
     "name": "stdout",
     "output_type": "stream",
     "text": [
      "Precision: 0.8104149715215623\n"
     ]
    }
   ],
   "source": [
    "precision_dt =precision_score(ytest,dt_pred)\n",
    "print(\"Precision: {}\".format(precision_dt))"
   ]
  },
  {
   "cell_type": "code",
   "execution_count": 96,
   "id": "8b6419f3",
   "metadata": {
    "execution": {
     "iopub.execute_input": "2022-09-19T05:33:45.783182Z",
     "iopub.status.busy": "2022-09-19T05:33:45.782768Z",
     "iopub.status.idle": "2022-09-19T05:33:45.788473Z",
     "shell.execute_reply": "2022-09-19T05:33:45.787046Z"
    },
    "papermill": {
     "duration": 0.05685,
     "end_time": "2022-09-19T05:33:45.790916",
     "exception": false,
     "start_time": "2022-09-19T05:33:45.734066",
     "status": "completed"
    },
    "tags": []
   },
   "outputs": [],
   "source": [
    "from sklearn.metrics import recall_score"
   ]
  },
  {
   "cell_type": "code",
   "execution_count": 97,
   "id": "bf54c7a1",
   "metadata": {
    "execution": {
     "iopub.execute_input": "2022-09-19T05:33:45.888377Z",
     "iopub.status.busy": "2022-09-19T05:33:45.887855Z",
     "iopub.status.idle": "2022-09-19T05:33:45.899676Z",
     "shell.execute_reply": "2022-09-19T05:33:45.897583Z"
    },
    "papermill": {
     "duration": 0.064455,
     "end_time": "2022-09-19T05:33:45.902439",
     "exception": false,
     "start_time": "2022-09-19T05:33:45.837984",
     "status": "completed"
    },
    "tags": []
   },
   "outputs": [
    {
     "name": "stdout",
     "output_type": "stream",
     "text": [
      "Recall: 0.9062784349408554\n"
     ]
    }
   ],
   "source": [
    "recall_dt =  recall_score(ytest,dt_pred)\n",
    "print(\"Recall: {}\".format(recall_dt))"
   ]
  },
  {
   "cell_type": "code",
   "execution_count": 98,
   "id": "1e52f604",
   "metadata": {
    "execution": {
     "iopub.execute_input": "2022-09-19T05:33:45.999447Z",
     "iopub.status.busy": "2022-09-19T05:33:45.999056Z",
     "iopub.status.idle": "2022-09-19T05:33:46.004667Z",
     "shell.execute_reply": "2022-09-19T05:33:46.003268Z"
    },
    "papermill": {
     "duration": 0.056806,
     "end_time": "2022-09-19T05:33:46.007303",
     "exception": false,
     "start_time": "2022-09-19T05:33:45.950497",
     "status": "completed"
    },
    "tags": []
   },
   "outputs": [],
   "source": [
    "from sklearn.metrics import f1_score"
   ]
  },
  {
   "cell_type": "code",
   "execution_count": 99,
   "id": "f767520e",
   "metadata": {
    "execution": {
     "iopub.execute_input": "2022-09-19T05:33:46.105071Z",
     "iopub.status.busy": "2022-09-19T05:33:46.104583Z",
     "iopub.status.idle": "2022-09-19T05:33:46.114747Z",
     "shell.execute_reply": "2022-09-19T05:33:46.113273Z"
    },
    "papermill": {
     "duration": 0.061757,
     "end_time": "2022-09-19T05:33:46.117256",
     "exception": false,
     "start_time": "2022-09-19T05:33:46.055499",
     "status": "completed"
    },
    "tags": []
   },
   "outputs": [
    {
     "name": "stdout",
     "output_type": "stream",
     "text": [
      "F1 Score: 0.8556701030927836\n"
     ]
    }
   ],
   "source": [
    "dt_f1 = f1_score(ytest,dt_pred)\n",
    "print(\"F1 Score: {}\".format(dt_f1))"
   ]
  },
  {
   "cell_type": "code",
   "execution_count": 100,
   "id": "52ebca58",
   "metadata": {
    "execution": {
     "iopub.execute_input": "2022-09-19T05:33:46.214016Z",
     "iopub.status.busy": "2022-09-19T05:33:46.213566Z",
     "iopub.status.idle": "2022-09-19T05:33:46.218493Z",
     "shell.execute_reply": "2022-09-19T05:33:46.217330Z"
    },
    "papermill": {
     "duration": 0.055798,
     "end_time": "2022-09-19T05:33:46.220763",
     "exception": false,
     "start_time": "2022-09-19T05:33:46.164965",
     "status": "completed"
    },
    "tags": []
   },
   "outputs": [],
   "source": [
    "from sklearn.metrics import classification_report"
   ]
  },
  {
   "cell_type": "code",
   "execution_count": 101,
   "id": "22c01148",
   "metadata": {
    "execution": {
     "iopub.execute_input": "2022-09-19T05:33:46.319178Z",
     "iopub.status.busy": "2022-09-19T05:33:46.318246Z",
     "iopub.status.idle": "2022-09-19T05:33:46.336966Z",
     "shell.execute_reply": "2022-09-19T05:33:46.335433Z"
    },
    "papermill": {
     "duration": 0.071818,
     "end_time": "2022-09-19T05:33:46.339654",
     "exception": false,
     "start_time": "2022-09-19T05:33:46.267836",
     "status": "completed"
    },
    "tags": []
   },
   "outputs": [
    {
     "name": "stdout",
     "output_type": "stream",
     "text": [
      "              precision    recall  f1-score   support\n",
      "\n",
      "           0       0.97      0.93      0.95      3401\n",
      "           1       0.81      0.91      0.86      1099\n",
      "\n",
      "    accuracy                           0.93      4500\n",
      "   macro avg       0.89      0.92      0.90      4500\n",
      "weighted avg       0.93      0.93      0.93      4500\n",
      "\n"
     ]
    }
   ],
   "source": [
    "print(classification_report(ytest,dt_pred))"
   ]
  },
  {
   "cell_type": "markdown",
   "id": "5a145f91",
   "metadata": {
    "papermill": {
     "duration": 0.047906,
     "end_time": "2022-09-19T05:33:46.436034",
     "exception": false,
     "start_time": "2022-09-19T05:33:46.388128",
     "status": "completed"
    },
    "tags": []
   },
   "source": [
    "# Result Comparisons"
   ]
  },
  {
   "cell_type": "markdown",
   "id": "5b0023f1",
   "metadata": {
    "papermill": {
     "duration": 0.047011,
     "end_time": "2022-09-19T05:33:46.532574",
     "exception": false,
     "start_time": "2022-09-19T05:33:46.485563",
     "status": "completed"
    },
    "tags": []
   },
   "source": [
    "**Task 20: Do the comparison of the above used models as per the scores found.Make a datafram that shows the models and scores for each models.**"
   ]
  },
  {
   "cell_type": "code",
   "execution_count": 102,
   "id": "a91048d8",
   "metadata": {
    "execution": {
     "iopub.execute_input": "2022-09-19T05:33:46.634799Z",
     "iopub.status.busy": "2022-09-19T05:33:46.633229Z",
     "iopub.status.idle": "2022-09-19T05:33:46.640170Z",
     "shell.execute_reply": "2022-09-19T05:33:46.639257Z"
    },
    "papermill": {
     "duration": 0.061374,
     "end_time": "2022-09-19T05:33:46.642770",
     "exception": false,
     "start_time": "2022-09-19T05:33:46.581396",
     "status": "completed"
    },
    "tags": []
   },
   "outputs": [],
   "source": [
    "compare_dict={\"Model\":['Random Forest','Logistic Regression','Ada Boost','XG boost','Decision tree'],\n",
    "              \"Accuracy\":[rf_acc,lr_accuracy,ab_accuracy,xgb_accuracy,accuracy_dt],\n",
    "              \"Precision\":[rf_precion, lr_precision,ab_precision,xgb_precision,precision_dt],\n",
    "              \"Recall\":[rf_recall,lr_recall,ab_recall,xgb_recall,recall_dt],\n",
    "              \"F1_Score\":[rf_f1_score,lr_f1_score,ab_f1_score,xgb_f1_score,dt_f1]}"
   ]
  },
  {
   "cell_type": "code",
   "execution_count": 103,
   "id": "0d878ee5",
   "metadata": {
    "execution": {
     "iopub.execute_input": "2022-09-19T05:33:46.745497Z",
     "iopub.status.busy": "2022-09-19T05:33:46.745103Z",
     "iopub.status.idle": "2022-09-19T05:33:46.760820Z",
     "shell.execute_reply": "2022-09-19T05:33:46.759911Z"
    },
    "papermill": {
     "duration": 0.068863,
     "end_time": "2022-09-19T05:33:46.763110",
     "exception": false,
     "start_time": "2022-09-19T05:33:46.694247",
     "status": "completed"
    },
    "tags": []
   },
   "outputs": [
    {
     "data": {
      "text/html": [
       "<div>\n",
       "<style scoped>\n",
       "    .dataframe tbody tr th:only-of-type {\n",
       "        vertical-align: middle;\n",
       "    }\n",
       "\n",
       "    .dataframe tbody tr th {\n",
       "        vertical-align: top;\n",
       "    }\n",
       "\n",
       "    .dataframe thead th {\n",
       "        text-align: right;\n",
       "    }\n",
       "</style>\n",
       "<table border=\"1\" class=\"dataframe\">\n",
       "  <thead>\n",
       "    <tr style=\"text-align: right;\">\n",
       "      <th></th>\n",
       "      <th>Model</th>\n",
       "      <th>Accuracy</th>\n",
       "      <th>Precision</th>\n",
       "      <th>Recall</th>\n",
       "      <th>F1_Score</th>\n",
       "    </tr>\n",
       "  </thead>\n",
       "  <tbody>\n",
       "    <tr>\n",
       "      <th>0</th>\n",
       "      <td>Random Forest</td>\n",
       "      <td>0.991778</td>\n",
       "      <td>0.991667</td>\n",
       "      <td>0.974522</td>\n",
       "      <td>0.983020</td>\n",
       "    </tr>\n",
       "    <tr>\n",
       "      <th>3</th>\n",
       "      <td>XG boost</td>\n",
       "      <td>0.989556</td>\n",
       "      <td>0.987941</td>\n",
       "      <td>0.969063</td>\n",
       "      <td>0.978411</td>\n",
       "    </tr>\n",
       "    <tr>\n",
       "      <th>2</th>\n",
       "      <td>Ada Boost</td>\n",
       "      <td>0.958889</td>\n",
       "      <td>0.914701</td>\n",
       "      <td>0.917197</td>\n",
       "      <td>0.915947</td>\n",
       "    </tr>\n",
       "    <tr>\n",
       "      <th>4</th>\n",
       "      <td>Decision tree</td>\n",
       "      <td>0.925333</td>\n",
       "      <td>0.810415</td>\n",
       "      <td>0.906278</td>\n",
       "      <td>0.855670</td>\n",
       "    </tr>\n",
       "    <tr>\n",
       "      <th>1</th>\n",
       "      <td>Logistic Regression</td>\n",
       "      <td>0.865556</td>\n",
       "      <td>0.747000</td>\n",
       "      <td>0.679709</td>\n",
       "      <td>0.711768</td>\n",
       "    </tr>\n",
       "  </tbody>\n",
       "</table>\n",
       "</div>"
      ],
      "text/plain": [
       "                 Model  Accuracy  Precision    Recall  F1_Score\n",
       "0        Random Forest  0.991778   0.991667  0.974522  0.983020\n",
       "3             XG boost  0.989556   0.987941  0.969063  0.978411\n",
       "2            Ada Boost  0.958889   0.914701  0.917197  0.915947\n",
       "4        Decision tree  0.925333   0.810415  0.906278  0.855670\n",
       "1  Logistic Regression  0.865556   0.747000  0.679709  0.711768"
      ]
     },
     "execution_count": 103,
     "metadata": {},
     "output_type": "execute_result"
    }
   ],
   "source": [
    "comparison=pd.DataFrame(compare_dict)\n",
    "comparison.sort_values(['F1_Score'], ascending=False)"
   ]
  },
  {
   "cell_type": "markdown",
   "id": "2201f234",
   "metadata": {
    "papermill": {
     "duration": 0.04761,
     "end_time": "2022-09-19T05:33:46.859510",
     "exception": false,
     "start_time": "2022-09-19T05:33:46.811900",
     "status": "completed"
    },
    "tags": []
   },
   "source": [
    "**Task 21: Which model has the best score? Do you think that you need to apply any sort of tunning on the model selected. If Yes, then apply it conclude with the final scores of the best model.**"
   ]
  },
  {
   "cell_type": "markdown",
   "id": "36d2e993",
   "metadata": {
    "papermill": {
     "duration": 0.0478,
     "end_time": "2022-09-19T05:33:46.955205",
     "exception": false,
     "start_time": "2022-09-19T05:33:46.907405",
     "status": "completed"
    },
    "tags": []
   },
   "source": [
    "Answer: "
   ]
  },
  {
   "cell_type": "markdown",
   "id": "a724f527",
   "metadata": {
    "papermill": {
     "duration": 0.047152,
     "end_time": "2022-09-19T05:33:47.050318",
     "exception": false,
     "start_time": "2022-09-19T05:33:47.003166",
     "status": "completed"
    },
    "tags": []
   },
   "source": [
    "The accuracy is already very, no tuning. Random Forest performs the best."
   ]
  }
 ],
 "metadata": {
  "kernelspec": {
   "display_name": "Python 3",
   "language": "python",
   "name": "python3"
  },
  "language_info": {
   "codemirror_mode": {
    "name": "ipython",
    "version": 3
   },
   "file_extension": ".py",
   "mimetype": "text/x-python",
   "name": "python",
   "nbconvert_exporter": "python",
   "pygments_lexer": "ipython3",
   "version": "3.7.12"
  },
  "papermill": {
   "default_parameters": {},
   "duration": 52.127127,
   "end_time": "2022-09-19T05:33:48.024931",
   "environment_variables": {},
   "exception": null,
   "input_path": "__notebook__.ipynb",
   "output_path": "__notebook__.ipynb",
   "parameters": {},
   "start_time": "2022-09-19T05:32:55.897804",
   "version": "2.3.4"
  }
 },
 "nbformat": 4,
 "nbformat_minor": 5
}
